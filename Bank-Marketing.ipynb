{
 "cells": [
  {
   "cell_type": "code",
   "execution_count": 1,
   "metadata": {},
   "outputs": [],
   "source": [
    "import pandas as pd\n",
    "import numpy as np\n",
    "import matplotlib.pyplot as plt\n",
    "import seaborn as sns\n",
    "\n",
    "%matplotlib inline"
   ]
  },
  {
   "cell_type": "code",
   "execution_count": 2,
   "metadata": {},
   "outputs": [
    {
     "name": "stdout",
     "output_type": "stream",
     "text": [
      "Requirement already satisfied: imblearn in c:\\users\\yoges\\anaconda3\\lib\\site-packages (0.0)\n",
      "Requirement already satisfied: imbalanced-learn in c:\\users\\yoges\\anaconda3\\lib\\site-packages (from imblearn) (0.8.0)\n",
      "Requirement already satisfied: scikit-learn>=0.24 in c:\\users\\yoges\\anaconda3\\lib\\site-packages (from imbalanced-learn->imblearn) (0.24.1)\n",
      "Requirement already satisfied: numpy>=1.13.3 in c:\\users\\yoges\\anaconda3\\lib\\site-packages (from imbalanced-learn->imblearn) (1.19.5)\n",
      "Requirement already satisfied: scipy>=0.19.1 in c:\\users\\yoges\\anaconda3\\lib\\site-packages (from imbalanced-learn->imblearn) (1.5.0)\n",
      "Requirement already satisfied: joblib>=0.11 in c:\\users\\yoges\\anaconda3\\lib\\site-packages (from imbalanced-learn->imblearn) (0.16.0)\n",
      "Requirement already satisfied: threadpoolctl>=2.0.0 in c:\\users\\yoges\\anaconda3\\lib\\site-packages (from scikit-learn>=0.24->imbalanced-learn->imblearn) (2.1.0)\n"
     ]
    }
   ],
   "source": [
    "!pip install imblearn"
   ]
  },
  {
   "cell_type": "code",
   "execution_count": 3,
   "metadata": {},
   "outputs": [
    {
     "name": "stdout",
     "output_type": "stream",
     "text": [
      "Requirement already satisfied: delayed in c:\\users\\yoges\\anaconda3\\lib\\site-packages (0.11.0b1)\n",
      "Requirement already satisfied: redis in c:\\users\\yoges\\anaconda3\\lib\\site-packages (from delayed) (3.5.3)\n",
      "Requirement already satisfied: hiredis in c:\\users\\yoges\\anaconda3\\lib\\site-packages (from delayed) (2.0.0)\n"
     ]
    }
   ],
   "source": [
    "!pip install delayed"
   ]
  },
  {
   "cell_type": "code",
   "execution_count": 4,
   "metadata": {},
   "outputs": [],
   "source": [
    "data=pd.read_csv(\"bank-full.csv\",delimiter=\";\")           #read csv file"
   ]
  },
  {
   "cell_type": "code",
   "execution_count": 5,
   "metadata": {},
   "outputs": [
    {
     "data": {
      "text/html": [
       "<div>\n",
       "<style scoped>\n",
       "    .dataframe tbody tr th:only-of-type {\n",
       "        vertical-align: middle;\n",
       "    }\n",
       "\n",
       "    .dataframe tbody tr th {\n",
       "        vertical-align: top;\n",
       "    }\n",
       "\n",
       "    .dataframe thead th {\n",
       "        text-align: right;\n",
       "    }\n",
       "</style>\n",
       "<table border=\"1\" class=\"dataframe\">\n",
       "  <thead>\n",
       "    <tr style=\"text-align: right;\">\n",
       "      <th></th>\n",
       "      <th>age</th>\n",
       "      <th>job</th>\n",
       "      <th>marital</th>\n",
       "      <th>education</th>\n",
       "      <th>default</th>\n",
       "      <th>balance</th>\n",
       "      <th>housing</th>\n",
       "      <th>loan</th>\n",
       "      <th>contact</th>\n",
       "      <th>day</th>\n",
       "      <th>month</th>\n",
       "      <th>duration</th>\n",
       "      <th>campaign</th>\n",
       "      <th>pdays</th>\n",
       "      <th>previous</th>\n",
       "      <th>poutcome</th>\n",
       "      <th>y</th>\n",
       "    </tr>\n",
       "  </thead>\n",
       "  <tbody>\n",
       "    <tr>\n",
       "      <th>0</th>\n",
       "      <td>58</td>\n",
       "      <td>management</td>\n",
       "      <td>married</td>\n",
       "      <td>tertiary</td>\n",
       "      <td>no</td>\n",
       "      <td>2143</td>\n",
       "      <td>yes</td>\n",
       "      <td>no</td>\n",
       "      <td>unknown</td>\n",
       "      <td>5</td>\n",
       "      <td>may</td>\n",
       "      <td>261</td>\n",
       "      <td>1</td>\n",
       "      <td>-1</td>\n",
       "      <td>0</td>\n",
       "      <td>unknown</td>\n",
       "      <td>no</td>\n",
       "    </tr>\n",
       "    <tr>\n",
       "      <th>1</th>\n",
       "      <td>44</td>\n",
       "      <td>technician</td>\n",
       "      <td>single</td>\n",
       "      <td>secondary</td>\n",
       "      <td>no</td>\n",
       "      <td>29</td>\n",
       "      <td>yes</td>\n",
       "      <td>no</td>\n",
       "      <td>unknown</td>\n",
       "      <td>5</td>\n",
       "      <td>may</td>\n",
       "      <td>151</td>\n",
       "      <td>1</td>\n",
       "      <td>-1</td>\n",
       "      <td>0</td>\n",
       "      <td>unknown</td>\n",
       "      <td>no</td>\n",
       "    </tr>\n",
       "    <tr>\n",
       "      <th>2</th>\n",
       "      <td>33</td>\n",
       "      <td>entrepreneur</td>\n",
       "      <td>married</td>\n",
       "      <td>secondary</td>\n",
       "      <td>no</td>\n",
       "      <td>2</td>\n",
       "      <td>yes</td>\n",
       "      <td>yes</td>\n",
       "      <td>unknown</td>\n",
       "      <td>5</td>\n",
       "      <td>may</td>\n",
       "      <td>76</td>\n",
       "      <td>1</td>\n",
       "      <td>-1</td>\n",
       "      <td>0</td>\n",
       "      <td>unknown</td>\n",
       "      <td>no</td>\n",
       "    </tr>\n",
       "    <tr>\n",
       "      <th>3</th>\n",
       "      <td>47</td>\n",
       "      <td>blue-collar</td>\n",
       "      <td>married</td>\n",
       "      <td>unknown</td>\n",
       "      <td>no</td>\n",
       "      <td>1506</td>\n",
       "      <td>yes</td>\n",
       "      <td>no</td>\n",
       "      <td>unknown</td>\n",
       "      <td>5</td>\n",
       "      <td>may</td>\n",
       "      <td>92</td>\n",
       "      <td>1</td>\n",
       "      <td>-1</td>\n",
       "      <td>0</td>\n",
       "      <td>unknown</td>\n",
       "      <td>no</td>\n",
       "    </tr>\n",
       "    <tr>\n",
       "      <th>4</th>\n",
       "      <td>33</td>\n",
       "      <td>unknown</td>\n",
       "      <td>single</td>\n",
       "      <td>unknown</td>\n",
       "      <td>no</td>\n",
       "      <td>1</td>\n",
       "      <td>no</td>\n",
       "      <td>no</td>\n",
       "      <td>unknown</td>\n",
       "      <td>5</td>\n",
       "      <td>may</td>\n",
       "      <td>198</td>\n",
       "      <td>1</td>\n",
       "      <td>-1</td>\n",
       "      <td>0</td>\n",
       "      <td>unknown</td>\n",
       "      <td>no</td>\n",
       "    </tr>\n",
       "  </tbody>\n",
       "</table>\n",
       "</div>"
      ],
      "text/plain": [
       "   age           job  marital  education default  balance housing loan  \\\n",
       "0   58    management  married   tertiary      no     2143     yes   no   \n",
       "1   44    technician   single  secondary      no       29     yes   no   \n",
       "2   33  entrepreneur  married  secondary      no        2     yes  yes   \n",
       "3   47   blue-collar  married    unknown      no     1506     yes   no   \n",
       "4   33       unknown   single    unknown      no        1      no   no   \n",
       "\n",
       "   contact  day month  duration  campaign  pdays  previous poutcome   y  \n",
       "0  unknown    5   may       261         1     -1         0  unknown  no  \n",
       "1  unknown    5   may       151         1     -1         0  unknown  no  \n",
       "2  unknown    5   may        76         1     -1         0  unknown  no  \n",
       "3  unknown    5   may        92         1     -1         0  unknown  no  \n",
       "4  unknown    5   may       198         1     -1         0  unknown  no  "
      ]
     },
     "execution_count": 5,
     "metadata": {},
     "output_type": "execute_result"
    }
   ],
   "source": [
    "data.head()                                                #showing first  5 data"
   ]
  },
  {
   "cell_type": "code",
   "execution_count": 6,
   "metadata": {},
   "outputs": [
    {
     "data": {
      "text/html": [
       "<div>\n",
       "<style scoped>\n",
       "    .dataframe tbody tr th:only-of-type {\n",
       "        vertical-align: middle;\n",
       "    }\n",
       "\n",
       "    .dataframe tbody tr th {\n",
       "        vertical-align: top;\n",
       "    }\n",
       "\n",
       "    .dataframe thead th {\n",
       "        text-align: right;\n",
       "    }\n",
       "</style>\n",
       "<table border=\"1\" class=\"dataframe\">\n",
       "  <thead>\n",
       "    <tr style=\"text-align: right;\">\n",
       "      <th></th>\n",
       "      <th>age</th>\n",
       "      <th>balance</th>\n",
       "      <th>day</th>\n",
       "      <th>duration</th>\n",
       "      <th>campaign</th>\n",
       "      <th>pdays</th>\n",
       "      <th>previous</th>\n",
       "    </tr>\n",
       "  </thead>\n",
       "  <tbody>\n",
       "    <tr>\n",
       "      <th>count</th>\n",
       "      <td>45211.000000</td>\n",
       "      <td>45211.000000</td>\n",
       "      <td>45211.000000</td>\n",
       "      <td>45211.000000</td>\n",
       "      <td>45211.000000</td>\n",
       "      <td>45211.000000</td>\n",
       "      <td>45211.000000</td>\n",
       "    </tr>\n",
       "    <tr>\n",
       "      <th>mean</th>\n",
       "      <td>40.936210</td>\n",
       "      <td>1362.272058</td>\n",
       "      <td>15.806419</td>\n",
       "      <td>258.163080</td>\n",
       "      <td>2.763841</td>\n",
       "      <td>40.197828</td>\n",
       "      <td>0.580323</td>\n",
       "    </tr>\n",
       "    <tr>\n",
       "      <th>std</th>\n",
       "      <td>10.618762</td>\n",
       "      <td>3044.765829</td>\n",
       "      <td>8.322476</td>\n",
       "      <td>257.527812</td>\n",
       "      <td>3.098021</td>\n",
       "      <td>100.128746</td>\n",
       "      <td>2.303441</td>\n",
       "    </tr>\n",
       "    <tr>\n",
       "      <th>min</th>\n",
       "      <td>18.000000</td>\n",
       "      <td>-8019.000000</td>\n",
       "      <td>1.000000</td>\n",
       "      <td>0.000000</td>\n",
       "      <td>1.000000</td>\n",
       "      <td>-1.000000</td>\n",
       "      <td>0.000000</td>\n",
       "    </tr>\n",
       "    <tr>\n",
       "      <th>25%</th>\n",
       "      <td>33.000000</td>\n",
       "      <td>72.000000</td>\n",
       "      <td>8.000000</td>\n",
       "      <td>103.000000</td>\n",
       "      <td>1.000000</td>\n",
       "      <td>-1.000000</td>\n",
       "      <td>0.000000</td>\n",
       "    </tr>\n",
       "    <tr>\n",
       "      <th>50%</th>\n",
       "      <td>39.000000</td>\n",
       "      <td>448.000000</td>\n",
       "      <td>16.000000</td>\n",
       "      <td>180.000000</td>\n",
       "      <td>2.000000</td>\n",
       "      <td>-1.000000</td>\n",
       "      <td>0.000000</td>\n",
       "    </tr>\n",
       "    <tr>\n",
       "      <th>75%</th>\n",
       "      <td>48.000000</td>\n",
       "      <td>1428.000000</td>\n",
       "      <td>21.000000</td>\n",
       "      <td>319.000000</td>\n",
       "      <td>3.000000</td>\n",
       "      <td>-1.000000</td>\n",
       "      <td>0.000000</td>\n",
       "    </tr>\n",
       "    <tr>\n",
       "      <th>max</th>\n",
       "      <td>95.000000</td>\n",
       "      <td>102127.000000</td>\n",
       "      <td>31.000000</td>\n",
       "      <td>4918.000000</td>\n",
       "      <td>63.000000</td>\n",
       "      <td>871.000000</td>\n",
       "      <td>275.000000</td>\n",
       "    </tr>\n",
       "  </tbody>\n",
       "</table>\n",
       "</div>"
      ],
      "text/plain": [
       "                age        balance           day      duration      campaign  \\\n",
       "count  45211.000000   45211.000000  45211.000000  45211.000000  45211.000000   \n",
       "mean      40.936210    1362.272058     15.806419    258.163080      2.763841   \n",
       "std       10.618762    3044.765829      8.322476    257.527812      3.098021   \n",
       "min       18.000000   -8019.000000      1.000000      0.000000      1.000000   \n",
       "25%       33.000000      72.000000      8.000000    103.000000      1.000000   \n",
       "50%       39.000000     448.000000     16.000000    180.000000      2.000000   \n",
       "75%       48.000000    1428.000000     21.000000    319.000000      3.000000   \n",
       "max       95.000000  102127.000000     31.000000   4918.000000     63.000000   \n",
       "\n",
       "              pdays      previous  \n",
       "count  45211.000000  45211.000000  \n",
       "mean      40.197828      0.580323  \n",
       "std      100.128746      2.303441  \n",
       "min       -1.000000      0.000000  \n",
       "25%       -1.000000      0.000000  \n",
       "50%       -1.000000      0.000000  \n",
       "75%       -1.000000      0.000000  \n",
       "max      871.000000    275.000000  "
      ]
     },
     "execution_count": 6,
     "metadata": {},
     "output_type": "execute_result"
    }
   ],
   "source": [
    "data.describe()"
   ]
  },
  {
   "cell_type": "code",
   "execution_count": 7,
   "metadata": {},
   "outputs": [
    {
     "name": "stdout",
     "output_type": "stream",
     "text": [
      "<class 'pandas.core.frame.DataFrame'>\n",
      "RangeIndex: 45211 entries, 0 to 45210\n",
      "Data columns (total 17 columns):\n",
      " #   Column     Non-Null Count  Dtype \n",
      "---  ------     --------------  ----- \n",
      " 0   age        45211 non-null  int64 \n",
      " 1   job        45211 non-null  object\n",
      " 2   marital    45211 non-null  object\n",
      " 3   education  45211 non-null  object\n",
      " 4   default    45211 non-null  object\n",
      " 5   balance    45211 non-null  int64 \n",
      " 6   housing    45211 non-null  object\n",
      " 7   loan       45211 non-null  object\n",
      " 8   contact    45211 non-null  object\n",
      " 9   day        45211 non-null  int64 \n",
      " 10  month      45211 non-null  object\n",
      " 11  duration   45211 non-null  int64 \n",
      " 12  campaign   45211 non-null  int64 \n",
      " 13  pdays      45211 non-null  int64 \n",
      " 14  previous   45211 non-null  int64 \n",
      " 15  poutcome   45211 non-null  object\n",
      " 16  y          45211 non-null  object\n",
      "dtypes: int64(7), object(10)\n",
      "memory usage: 5.9+ MB\n"
     ]
    }
   ],
   "source": [
    "data.info()"
   ]
  },
  {
   "cell_type": "code",
   "execution_count": 8,
   "metadata": {},
   "outputs": [
    {
     "data": {
      "text/plain": [
       "age          0\n",
       "job          0\n",
       "marital      0\n",
       "education    0\n",
       "default      0\n",
       "balance      0\n",
       "housing      0\n",
       "loan         0\n",
       "contact      0\n",
       "day          0\n",
       "month        0\n",
       "duration     0\n",
       "campaign     0\n",
       "pdays        0\n",
       "previous     0\n",
       "poutcome     0\n",
       "y            0\n",
       "dtype: int64"
      ]
     },
     "execution_count": 8,
     "metadata": {},
     "output_type": "execute_result"
    }
   ],
   "source": [
    "data.isnull().sum()                                          #checking for null values"
   ]
  },
  {
   "cell_type": "code",
   "execution_count": 9,
   "metadata": {},
   "outputs": [
    {
     "data": {
      "text/html": [
       "<div>\n",
       "<style scoped>\n",
       "    .dataframe tbody tr th:only-of-type {\n",
       "        vertical-align: middle;\n",
       "    }\n",
       "\n",
       "    .dataframe tbody tr th {\n",
       "        vertical-align: top;\n",
       "    }\n",
       "\n",
       "    .dataframe thead th {\n",
       "        text-align: right;\n",
       "    }\n",
       "</style>\n",
       "<table border=\"1\" class=\"dataframe\">\n",
       "  <thead>\n",
       "    <tr style=\"text-align: right;\">\n",
       "      <th></th>\n",
       "      <th>age</th>\n",
       "      <th>job</th>\n",
       "      <th>marital</th>\n",
       "      <th>education</th>\n",
       "      <th>default</th>\n",
       "      <th>balance</th>\n",
       "      <th>housing</th>\n",
       "      <th>loan</th>\n",
       "      <th>contact</th>\n",
       "      <th>day</th>\n",
       "      <th>month</th>\n",
       "      <th>duration</th>\n",
       "      <th>campaign</th>\n",
       "      <th>pdays</th>\n",
       "      <th>previous</th>\n",
       "      <th>poutcome</th>\n",
       "      <th>y</th>\n",
       "    </tr>\n",
       "  </thead>\n",
       "  <tbody>\n",
       "    <tr>\n",
       "      <th>0</th>\n",
       "      <td>58</td>\n",
       "      <td>management</td>\n",
       "      <td>married</td>\n",
       "      <td>tertiary</td>\n",
       "      <td>no</td>\n",
       "      <td>2143</td>\n",
       "      <td>yes</td>\n",
       "      <td>no</td>\n",
       "      <td>unknown</td>\n",
       "      <td>5</td>\n",
       "      <td>may</td>\n",
       "      <td>261</td>\n",
       "      <td>1</td>\n",
       "      <td>-1</td>\n",
       "      <td>0</td>\n",
       "      <td>unknown</td>\n",
       "      <td>no</td>\n",
       "    </tr>\n",
       "    <tr>\n",
       "      <th>1</th>\n",
       "      <td>44</td>\n",
       "      <td>technician</td>\n",
       "      <td>single</td>\n",
       "      <td>secondary</td>\n",
       "      <td>no</td>\n",
       "      <td>29</td>\n",
       "      <td>yes</td>\n",
       "      <td>no</td>\n",
       "      <td>unknown</td>\n",
       "      <td>5</td>\n",
       "      <td>may</td>\n",
       "      <td>151</td>\n",
       "      <td>1</td>\n",
       "      <td>-1</td>\n",
       "      <td>0</td>\n",
       "      <td>unknown</td>\n",
       "      <td>no</td>\n",
       "    </tr>\n",
       "    <tr>\n",
       "      <th>2</th>\n",
       "      <td>33</td>\n",
       "      <td>entrepreneur</td>\n",
       "      <td>married</td>\n",
       "      <td>secondary</td>\n",
       "      <td>no</td>\n",
       "      <td>2</td>\n",
       "      <td>yes</td>\n",
       "      <td>yes</td>\n",
       "      <td>unknown</td>\n",
       "      <td>5</td>\n",
       "      <td>may</td>\n",
       "      <td>76</td>\n",
       "      <td>1</td>\n",
       "      <td>-1</td>\n",
       "      <td>0</td>\n",
       "      <td>unknown</td>\n",
       "      <td>no</td>\n",
       "    </tr>\n",
       "    <tr>\n",
       "      <th>3</th>\n",
       "      <td>47</td>\n",
       "      <td>blue-collar</td>\n",
       "      <td>married</td>\n",
       "      <td>unknown</td>\n",
       "      <td>no</td>\n",
       "      <td>1506</td>\n",
       "      <td>yes</td>\n",
       "      <td>no</td>\n",
       "      <td>unknown</td>\n",
       "      <td>5</td>\n",
       "      <td>may</td>\n",
       "      <td>92</td>\n",
       "      <td>1</td>\n",
       "      <td>-1</td>\n",
       "      <td>0</td>\n",
       "      <td>unknown</td>\n",
       "      <td>no</td>\n",
       "    </tr>\n",
       "    <tr>\n",
       "      <th>4</th>\n",
       "      <td>33</td>\n",
       "      <td>unknown</td>\n",
       "      <td>single</td>\n",
       "      <td>unknown</td>\n",
       "      <td>no</td>\n",
       "      <td>1</td>\n",
       "      <td>no</td>\n",
       "      <td>no</td>\n",
       "      <td>unknown</td>\n",
       "      <td>5</td>\n",
       "      <td>may</td>\n",
       "      <td>198</td>\n",
       "      <td>1</td>\n",
       "      <td>-1</td>\n",
       "      <td>0</td>\n",
       "      <td>unknown</td>\n",
       "      <td>no</td>\n",
       "    </tr>\n",
       "  </tbody>\n",
       "</table>\n",
       "</div>"
      ],
      "text/plain": [
       "   age           job  marital  education default  balance housing loan  \\\n",
       "0   58    management  married   tertiary      no     2143     yes   no   \n",
       "1   44    technician   single  secondary      no       29     yes   no   \n",
       "2   33  entrepreneur  married  secondary      no        2     yes  yes   \n",
       "3   47   blue-collar  married    unknown      no     1506     yes   no   \n",
       "4   33       unknown   single    unknown      no        1      no   no   \n",
       "\n",
       "   contact  day month  duration  campaign  pdays  previous poutcome   y  \n",
       "0  unknown    5   may       261         1     -1         0  unknown  no  \n",
       "1  unknown    5   may       151         1     -1         0  unknown  no  \n",
       "2  unknown    5   may        76         1     -1         0  unknown  no  \n",
       "3  unknown    5   may        92         1     -1         0  unknown  no  \n",
       "4  unknown    5   may       198         1     -1         0  unknown  no  "
      ]
     },
     "execution_count": 9,
     "metadata": {},
     "output_type": "execute_result"
    }
   ],
   "source": [
    "data.head()"
   ]
  },
  {
   "cell_type": "code",
   "execution_count": 10,
   "metadata": {},
   "outputs": [
    {
     "data": {
      "text/plain": [
       "array(['management', 'technician', 'entrepreneur', 'blue-collar',\n",
       "       'unknown', 'retired', 'admin.', 'services', 'self-employed',\n",
       "       'unemployed', 'housemaid', 'student'], dtype=object)"
      ]
     },
     "execution_count": 10,
     "metadata": {},
     "output_type": "execute_result"
    }
   ],
   "source": [
    "data['job'].unique()                                        #checking for categories"
   ]
  },
  {
   "cell_type": "code",
   "execution_count": 11,
   "metadata": {},
   "outputs": [],
   "source": [
    "data['job']=data['job'].map({'management':0, 'technician':1, 'entrepreneur':2, 'blue-collar':3,\n",
    "       'unknown':4, 'retired':5, 'admin.':6, 'services':7, 'self-employed':8,\n",
    "       'unemployed':9, 'housemaid':10, 'student':11})                 #replacing categorical features with nunerical"
   ]
  },
  {
   "cell_type": "code",
   "execution_count": 12,
   "metadata": {},
   "outputs": [
    {
     "data": {
      "text/plain": [
       "array(['married', 'single', 'divorced'], dtype=object)"
      ]
     },
     "execution_count": 12,
     "metadata": {},
     "output_type": "execute_result"
    }
   ],
   "source": [
    "data['marital'].unique()"
   ]
  },
  {
   "cell_type": "code",
   "execution_count": 13,
   "metadata": {},
   "outputs": [],
   "source": [
    "data['marital']=data['marital'].map({'married':0,'single':1,'divorced':2})"
   ]
  },
  {
   "cell_type": "code",
   "execution_count": 14,
   "metadata": {},
   "outputs": [
    {
     "data": {
      "text/plain": [
       "0    0\n",
       "1    1\n",
       "2    0\n",
       "3    0\n",
       "4    1\n",
       "Name: marital, dtype: int64"
      ]
     },
     "execution_count": 14,
     "metadata": {},
     "output_type": "execute_result"
    }
   ],
   "source": [
    "data['marital'].head()"
   ]
  },
  {
   "cell_type": "code",
   "execution_count": 15,
   "metadata": {},
   "outputs": [
    {
     "data": {
      "text/plain": [
       "array(['tertiary', 'secondary', 'unknown', 'primary'], dtype=object)"
      ]
     },
     "execution_count": 15,
     "metadata": {},
     "output_type": "execute_result"
    }
   ],
   "source": [
    "data['education'].unique()"
   ]
  },
  {
   "cell_type": "code",
   "execution_count": 16,
   "metadata": {},
   "outputs": [],
   "source": [
    "data['education']=data['education'].map({'tertiary':0,'secondary':1,'unknown':2,'primary':3})"
   ]
  },
  {
   "cell_type": "code",
   "execution_count": 17,
   "metadata": {},
   "outputs": [
    {
     "data": {
      "text/plain": [
       "array(['yes', 'no'], dtype=object)"
      ]
     },
     "execution_count": 17,
     "metadata": {},
     "output_type": "execute_result"
    }
   ],
   "source": [
    "data['housing'].unique()"
   ]
  },
  {
   "cell_type": "code",
   "execution_count": 18,
   "metadata": {},
   "outputs": [],
   "source": [
    "data['housing']=data['housing'].map({'yes':1,'no':0})"
   ]
  },
  {
   "cell_type": "code",
   "execution_count": 19,
   "metadata": {},
   "outputs": [
    {
     "data": {
      "text/plain": [
       "array(['no', 'yes'], dtype=object)"
      ]
     },
     "execution_count": 19,
     "metadata": {},
     "output_type": "execute_result"
    }
   ],
   "source": [
    "data['loan'].unique()"
   ]
  },
  {
   "cell_type": "code",
   "execution_count": 20,
   "metadata": {},
   "outputs": [],
   "source": [
    "data['loan']=data['loan'].map({'no':0,'yes':1})"
   ]
  },
  {
   "cell_type": "code",
   "execution_count": 21,
   "metadata": {},
   "outputs": [
    {
     "data": {
      "text/plain": [
       "array(['unknown', 'cellular', 'telephone'], dtype=object)"
      ]
     },
     "execution_count": 21,
     "metadata": {},
     "output_type": "execute_result"
    }
   ],
   "source": [
    "data['contact'].unique()"
   ]
  },
  {
   "cell_type": "code",
   "execution_count": 22,
   "metadata": {},
   "outputs": [],
   "source": [
    "data['contact']=data['contact'].map({'unknown':0,'cellular':1,'telephone':2})"
   ]
  },
  {
   "cell_type": "code",
   "execution_count": 23,
   "metadata": {},
   "outputs": [
    {
     "data": {
      "text/plain": [
       "array(['may', 'jun', 'jul', 'aug', 'oct', 'nov', 'dec', 'jan', 'feb',\n",
       "       'mar', 'apr', 'sep'], dtype=object)"
      ]
     },
     "execution_count": 23,
     "metadata": {},
     "output_type": "execute_result"
    }
   ],
   "source": [
    "data['month'].unique()"
   ]
  },
  {
   "cell_type": "code",
   "execution_count": 24,
   "metadata": {},
   "outputs": [],
   "source": [
    "data['month']=data['month'].map({'may':5, 'jun':6, 'jul':7, 'aug':8, 'oct':10, 'nov':11, 'dec':12, 'jan':1, 'feb':2,\n",
    "       'mar':3, 'apr':4, 'sep':9})"
   ]
  },
  {
   "cell_type": "code",
   "execution_count": 25,
   "metadata": {},
   "outputs": [
    {
     "data": {
      "text/plain": [
       "array(['unknown', 'failure', 'other', 'success'], dtype=object)"
      ]
     },
     "execution_count": 25,
     "metadata": {},
     "output_type": "execute_result"
    }
   ],
   "source": [
    "data['poutcome'].unique()"
   ]
  },
  {
   "cell_type": "code",
   "execution_count": 26,
   "metadata": {},
   "outputs": [],
   "source": [
    "data['poutcome']=data['poutcome'].map({'unknown':2, 'failure':0, 'other':3, 'success':1})"
   ]
  },
  {
   "cell_type": "code",
   "execution_count": 27,
   "metadata": {},
   "outputs": [
    {
     "data": {
      "text/plain": [
       "array(['no', 'yes'], dtype=object)"
      ]
     },
     "execution_count": 27,
     "metadata": {},
     "output_type": "execute_result"
    }
   ],
   "source": [
    "data['y'].unique()"
   ]
  },
  {
   "cell_type": "code",
   "execution_count": 28,
   "metadata": {},
   "outputs": [],
   "source": [
    "data['y']=data['y'].map({'no':0,'yes':1})"
   ]
  },
  {
   "cell_type": "code",
   "execution_count": null,
   "metadata": {},
   "outputs": [],
   "source": []
  },
  {
   "cell_type": "code",
   "execution_count": 29,
   "metadata": {},
   "outputs": [
    {
     "data": {
      "text/plain": [
       "array(['no', 'yes'], dtype=object)"
      ]
     },
     "execution_count": 29,
     "metadata": {},
     "output_type": "execute_result"
    }
   ],
   "source": [
    "data['default'].unique()"
   ]
  },
  {
   "cell_type": "code",
   "execution_count": 30,
   "metadata": {},
   "outputs": [],
   "source": [
    "data['default']=data['default'].map({'no':0,'yes':1})"
   ]
  },
  {
   "cell_type": "code",
   "execution_count": 31,
   "metadata": {},
   "outputs": [],
   "source": [
    "data.drop('duration',axis=1,inplace=True)"
   ]
  },
  {
   "cell_type": "code",
   "execution_count": 32,
   "metadata": {},
   "outputs": [
    {
     "data": {
      "text/html": [
       "<div>\n",
       "<style scoped>\n",
       "    .dataframe tbody tr th:only-of-type {\n",
       "        vertical-align: middle;\n",
       "    }\n",
       "\n",
       "    .dataframe tbody tr th {\n",
       "        vertical-align: top;\n",
       "    }\n",
       "\n",
       "    .dataframe thead th {\n",
       "        text-align: right;\n",
       "    }\n",
       "</style>\n",
       "<table border=\"1\" class=\"dataframe\">\n",
       "  <thead>\n",
       "    <tr style=\"text-align: right;\">\n",
       "      <th></th>\n",
       "      <th>age</th>\n",
       "      <th>job</th>\n",
       "      <th>marital</th>\n",
       "      <th>education</th>\n",
       "      <th>default</th>\n",
       "      <th>balance</th>\n",
       "      <th>housing</th>\n",
       "      <th>loan</th>\n",
       "      <th>contact</th>\n",
       "      <th>day</th>\n",
       "      <th>month</th>\n",
       "      <th>campaign</th>\n",
       "      <th>pdays</th>\n",
       "      <th>previous</th>\n",
       "      <th>poutcome</th>\n",
       "      <th>y</th>\n",
       "    </tr>\n",
       "  </thead>\n",
       "  <tbody>\n",
       "    <tr>\n",
       "      <th>0</th>\n",
       "      <td>58</td>\n",
       "      <td>0</td>\n",
       "      <td>0</td>\n",
       "      <td>0</td>\n",
       "      <td>0</td>\n",
       "      <td>2143</td>\n",
       "      <td>1</td>\n",
       "      <td>0</td>\n",
       "      <td>0</td>\n",
       "      <td>5</td>\n",
       "      <td>5</td>\n",
       "      <td>1</td>\n",
       "      <td>-1</td>\n",
       "      <td>0</td>\n",
       "      <td>2</td>\n",
       "      <td>0</td>\n",
       "    </tr>\n",
       "    <tr>\n",
       "      <th>1</th>\n",
       "      <td>44</td>\n",
       "      <td>1</td>\n",
       "      <td>1</td>\n",
       "      <td>1</td>\n",
       "      <td>0</td>\n",
       "      <td>29</td>\n",
       "      <td>1</td>\n",
       "      <td>0</td>\n",
       "      <td>0</td>\n",
       "      <td>5</td>\n",
       "      <td>5</td>\n",
       "      <td>1</td>\n",
       "      <td>-1</td>\n",
       "      <td>0</td>\n",
       "      <td>2</td>\n",
       "      <td>0</td>\n",
       "    </tr>\n",
       "    <tr>\n",
       "      <th>2</th>\n",
       "      <td>33</td>\n",
       "      <td>2</td>\n",
       "      <td>0</td>\n",
       "      <td>1</td>\n",
       "      <td>0</td>\n",
       "      <td>2</td>\n",
       "      <td>1</td>\n",
       "      <td>1</td>\n",
       "      <td>0</td>\n",
       "      <td>5</td>\n",
       "      <td>5</td>\n",
       "      <td>1</td>\n",
       "      <td>-1</td>\n",
       "      <td>0</td>\n",
       "      <td>2</td>\n",
       "      <td>0</td>\n",
       "    </tr>\n",
       "    <tr>\n",
       "      <th>3</th>\n",
       "      <td>47</td>\n",
       "      <td>3</td>\n",
       "      <td>0</td>\n",
       "      <td>2</td>\n",
       "      <td>0</td>\n",
       "      <td>1506</td>\n",
       "      <td>1</td>\n",
       "      <td>0</td>\n",
       "      <td>0</td>\n",
       "      <td>5</td>\n",
       "      <td>5</td>\n",
       "      <td>1</td>\n",
       "      <td>-1</td>\n",
       "      <td>0</td>\n",
       "      <td>2</td>\n",
       "      <td>0</td>\n",
       "    </tr>\n",
       "    <tr>\n",
       "      <th>4</th>\n",
       "      <td>33</td>\n",
       "      <td>4</td>\n",
       "      <td>1</td>\n",
       "      <td>2</td>\n",
       "      <td>0</td>\n",
       "      <td>1</td>\n",
       "      <td>0</td>\n",
       "      <td>0</td>\n",
       "      <td>0</td>\n",
       "      <td>5</td>\n",
       "      <td>5</td>\n",
       "      <td>1</td>\n",
       "      <td>-1</td>\n",
       "      <td>0</td>\n",
       "      <td>2</td>\n",
       "      <td>0</td>\n",
       "    </tr>\n",
       "  </tbody>\n",
       "</table>\n",
       "</div>"
      ],
      "text/plain": [
       "   age  job  marital  education  default  balance  housing  loan  contact  \\\n",
       "0   58    0        0          0        0     2143        1     0        0   \n",
       "1   44    1        1          1        0       29        1     0        0   \n",
       "2   33    2        0          1        0        2        1     1        0   \n",
       "3   47    3        0          2        0     1506        1     0        0   \n",
       "4   33    4        1          2        0        1        0     0        0   \n",
       "\n",
       "   day  month  campaign  pdays  previous  poutcome  y  \n",
       "0    5      5         1     -1         0         2  0  \n",
       "1    5      5         1     -1         0         2  0  \n",
       "2    5      5         1     -1         0         2  0  \n",
       "3    5      5         1     -1         0         2  0  \n",
       "4    5      5         1     -1         0         2  0  "
      ]
     },
     "execution_count": 32,
     "metadata": {},
     "output_type": "execute_result"
    }
   ],
   "source": [
    "data.head()"
   ]
  },
  {
   "cell_type": "code",
   "execution_count": 33,
   "metadata": {},
   "outputs": [],
   "source": [
    "zero=data[data['y']==0]\n",
    "one=data[data['y']==1]"
   ]
  },
  {
   "cell_type": "code",
   "execution_count": 34,
   "metadata": {},
   "outputs": [
    {
     "name": "stdout",
     "output_type": "stream",
     "text": [
      "(39922, 16) (5289, 16)\n"
     ]
    }
   ],
   "source": [
    "print(zero.shape,one.shape)"
   ]
  },
  {
   "cell_type": "code",
   "execution_count": null,
   "metadata": {},
   "outputs": [],
   "source": []
  },
  {
   "cell_type": "code",
   "execution_count": 35,
   "metadata": {},
   "outputs": [
    {
     "name": "stdout",
     "output_type": "stream",
     "text": [
      "Requirement already satisfied: delayed in c:\\users\\yoges\\anaconda3\\lib\\site-packages (0.11.0b1)\n",
      "Requirement already satisfied: hiredis in c:\\users\\yoges\\anaconda3\\lib\\site-packages (from delayed) (2.0.0)\n",
      "Requirement already satisfied: redis in c:\\users\\yoges\\anaconda3\\lib\\site-packages (from delayed) (3.5.3)\n"
     ]
    }
   ],
   "source": [
    "!pip install delayed"
   ]
  },
  {
   "cell_type": "code",
   "execution_count": 36,
   "metadata": {},
   "outputs": [
    {
     "data": {
      "text/plain": [
       "age          int64\n",
       "job          int64\n",
       "marital      int64\n",
       "education    int64\n",
       "default      int64\n",
       "balance      int64\n",
       "housing      int64\n",
       "loan         int64\n",
       "contact      int64\n",
       "day          int64\n",
       "month        int64\n",
       "campaign     int64\n",
       "pdays        int64\n",
       "previous     int64\n",
       "poutcome     int64\n",
       "y            int64\n",
       "dtype: object"
      ]
     },
     "execution_count": 36,
     "metadata": {},
     "output_type": "execute_result"
    }
   ],
   "source": [
    "data.dtypes"
   ]
  },
  {
   "cell_type": "code",
   "execution_count": 37,
   "metadata": {},
   "outputs": [],
   "source": [
    "# p=sns.pairplot(data, hue = 'y')"
   ]
  },
  {
   "cell_type": "code",
   "execution_count": 38,
   "metadata": {},
   "outputs": [
    {
     "data": {
      "text/html": [
       "<div>\n",
       "<style scoped>\n",
       "    .dataframe tbody tr th:only-of-type {\n",
       "        vertical-align: middle;\n",
       "    }\n",
       "\n",
       "    .dataframe tbody tr th {\n",
       "        vertical-align: top;\n",
       "    }\n",
       "\n",
       "    .dataframe thead th {\n",
       "        text-align: right;\n",
       "    }\n",
       "</style>\n",
       "<table border=\"1\" class=\"dataframe\">\n",
       "  <thead>\n",
       "    <tr style=\"text-align: right;\">\n",
       "      <th></th>\n",
       "      <th>age</th>\n",
       "      <th>job</th>\n",
       "      <th>marital</th>\n",
       "      <th>education</th>\n",
       "      <th>default</th>\n",
       "      <th>balance</th>\n",
       "      <th>housing</th>\n",
       "      <th>loan</th>\n",
       "      <th>contact</th>\n",
       "      <th>day</th>\n",
       "      <th>month</th>\n",
       "      <th>campaign</th>\n",
       "      <th>pdays</th>\n",
       "      <th>previous</th>\n",
       "      <th>poutcome</th>\n",
       "      <th>y</th>\n",
       "    </tr>\n",
       "  </thead>\n",
       "  <tbody>\n",
       "    <tr>\n",
       "      <th>age</th>\n",
       "      <td>1.000000</td>\n",
       "      <td>0.004262</td>\n",
       "      <td>-0.126351</td>\n",
       "      <td>0.197850</td>\n",
       "      <td>-0.017879</td>\n",
       "      <td>0.097783</td>\n",
       "      <td>-0.185513</td>\n",
       "      <td>-0.015655</td>\n",
       "      <td>0.092577</td>\n",
       "      <td>-0.009120</td>\n",
       "      <td>0.092903</td>\n",
       "      <td>0.004760</td>\n",
       "      <td>-0.023758</td>\n",
       "      <td>0.001288</td>\n",
       "      <td>-0.011541</td>\n",
       "      <td>0.025155</td>\n",
       "    </tr>\n",
       "    <tr>\n",
       "      <th>job</th>\n",
       "      <td>0.004262</td>\n",
       "      <td>1.000000</td>\n",
       "      <td>0.025000</td>\n",
       "      <td>0.259541</td>\n",
       "      <td>-0.007340</td>\n",
       "      <td>-0.029654</td>\n",
       "      <td>-0.041317</td>\n",
       "      <td>-0.012578</td>\n",
       "      <td>0.001588</td>\n",
       "      <td>-0.027535</td>\n",
       "      <td>-0.064629</td>\n",
       "      <td>-0.035410</td>\n",
       "      <td>0.007492</td>\n",
       "      <td>-0.006466</td>\n",
       "      <td>0.001196</td>\n",
       "      <td>0.022396</td>\n",
       "    </tr>\n",
       "    <tr>\n",
       "      <th>marital</th>\n",
       "      <td>-0.126351</td>\n",
       "      <td>0.025000</td>\n",
       "      <td>1.000000</td>\n",
       "      <td>-0.109133</td>\n",
       "      <td>0.018404</td>\n",
       "      <td>-0.028172</td>\n",
       "      <td>-0.011671</td>\n",
       "      <td>-0.018526</td>\n",
       "      <td>-0.014290</td>\n",
       "      <td>-0.005217</td>\n",
       "      <td>-0.044321</td>\n",
       "      <td>-0.029294</td>\n",
       "      <td>0.020832</td>\n",
       "      <td>0.006876</td>\n",
       "      <td>0.001636</td>\n",
       "      <td>0.043846</td>\n",
       "    </tr>\n",
       "    <tr>\n",
       "      <th>education</th>\n",
       "      <td>0.197850</td>\n",
       "      <td>0.259541</td>\n",
       "      <td>-0.109133</td>\n",
       "      <td>1.000000</td>\n",
       "      <td>0.008114</td>\n",
       "      <td>-0.048649</td>\n",
       "      <td>0.044788</td>\n",
       "      <td>0.002191</td>\n",
       "      <td>-0.068756</td>\n",
       "      <td>-0.024666</td>\n",
       "      <td>-0.061310</td>\n",
       "      <td>0.002234</td>\n",
       "      <td>-0.010713</td>\n",
       "      <td>-0.024818</td>\n",
       "      <td>0.027320</td>\n",
       "      <td>-0.058675</td>\n",
       "    </tr>\n",
       "    <tr>\n",
       "      <th>default</th>\n",
       "      <td>-0.017879</td>\n",
       "      <td>-0.007340</td>\n",
       "      <td>0.018404</td>\n",
       "      <td>0.008114</td>\n",
       "      <td>1.000000</td>\n",
       "      <td>-0.066745</td>\n",
       "      <td>-0.006025</td>\n",
       "      <td>0.077234</td>\n",
       "      <td>-0.024095</td>\n",
       "      <td>0.009424</td>\n",
       "      <td>0.014989</td>\n",
       "      <td>0.016822</td>\n",
       "      <td>-0.029979</td>\n",
       "      <td>-0.018329</td>\n",
       "      <td>0.026062</td>\n",
       "      <td>-0.022419</td>\n",
       "    </tr>\n",
       "    <tr>\n",
       "      <th>balance</th>\n",
       "      <td>0.097783</td>\n",
       "      <td>-0.029654</td>\n",
       "      <td>-0.028172</td>\n",
       "      <td>-0.048649</td>\n",
       "      <td>-0.066745</td>\n",
       "      <td>1.000000</td>\n",
       "      <td>-0.068768</td>\n",
       "      <td>-0.084350</td>\n",
       "      <td>0.047701</td>\n",
       "      <td>0.004503</td>\n",
       "      <td>0.094605</td>\n",
       "      <td>-0.014578</td>\n",
       "      <td>0.003435</td>\n",
       "      <td>0.016674</td>\n",
       "      <td>-0.017669</td>\n",
       "      <td>0.052838</td>\n",
       "    </tr>\n",
       "    <tr>\n",
       "      <th>housing</th>\n",
       "      <td>-0.185513</td>\n",
       "      <td>-0.041317</td>\n",
       "      <td>-0.011671</td>\n",
       "      <td>0.044788</td>\n",
       "      <td>-0.006025</td>\n",
       "      <td>-0.068768</td>\n",
       "      <td>1.000000</td>\n",
       "      <td>0.041323</td>\n",
       "      <td>-0.207722</td>\n",
       "      <td>-0.027982</td>\n",
       "      <td>-0.173887</td>\n",
       "      <td>-0.023599</td>\n",
       "      <td>0.124178</td>\n",
       "      <td>0.037076</td>\n",
       "      <td>-0.061869</td>\n",
       "      <td>-0.139173</td>\n",
       "    </tr>\n",
       "    <tr>\n",
       "      <th>loan</th>\n",
       "      <td>-0.015655</td>\n",
       "      <td>-0.012578</td>\n",
       "      <td>-0.018526</td>\n",
       "      <td>0.002191</td>\n",
       "      <td>0.077234</td>\n",
       "      <td>-0.084350</td>\n",
       "      <td>0.041323</td>\n",
       "      <td>1.000000</td>\n",
       "      <td>0.000058</td>\n",
       "      <td>0.011370</td>\n",
       "      <td>0.021638</td>\n",
       "      <td>0.009980</td>\n",
       "      <td>-0.022754</td>\n",
       "      <td>-0.011043</td>\n",
       "      <td>0.013531</td>\n",
       "      <td>-0.068185</td>\n",
       "    </tr>\n",
       "    <tr>\n",
       "      <th>contact</th>\n",
       "      <td>0.092577</td>\n",
       "      <td>0.001588</td>\n",
       "      <td>-0.014290</td>\n",
       "      <td>-0.068756</td>\n",
       "      <td>-0.024095</td>\n",
       "      <td>0.047701</td>\n",
       "      <td>-0.207722</td>\n",
       "      <td>0.000058</td>\n",
       "      <td>1.000000</td>\n",
       "      <td>0.038643</td>\n",
       "      <td>0.167103</td>\n",
       "      <td>0.020046</td>\n",
       "      <td>0.210651</td>\n",
       "      <td>0.139518</td>\n",
       "      <td>-0.159046</td>\n",
       "      <td>0.130590</td>\n",
       "    </tr>\n",
       "    <tr>\n",
       "      <th>day</th>\n",
       "      <td>-0.009120</td>\n",
       "      <td>-0.027535</td>\n",
       "      <td>-0.005217</td>\n",
       "      <td>-0.024666</td>\n",
       "      <td>0.009424</td>\n",
       "      <td>0.004503</td>\n",
       "      <td>-0.027982</td>\n",
       "      <td>0.011370</td>\n",
       "      <td>0.038643</td>\n",
       "      <td>1.000000</td>\n",
       "      <td>0.101989</td>\n",
       "      <td>0.162490</td>\n",
       "      <td>-0.093044</td>\n",
       "      <td>-0.051710</td>\n",
       "      <td>0.061163</td>\n",
       "      <td>-0.028348</td>\n",
       "    </tr>\n",
       "    <tr>\n",
       "      <th>month</th>\n",
       "      <td>0.092903</td>\n",
       "      <td>-0.064629</td>\n",
       "      <td>-0.044321</td>\n",
       "      <td>-0.061310</td>\n",
       "      <td>0.014989</td>\n",
       "      <td>0.094605</td>\n",
       "      <td>-0.173887</td>\n",
       "      <td>0.021638</td>\n",
       "      <td>0.167103</td>\n",
       "      <td>0.101989</td>\n",
       "      <td>1.000000</td>\n",
       "      <td>0.054868</td>\n",
       "      <td>-0.108940</td>\n",
       "      <td>-0.035600</td>\n",
       "      <td>0.024025</td>\n",
       "      <td>0.018717</td>\n",
       "    </tr>\n",
       "    <tr>\n",
       "      <th>campaign</th>\n",
       "      <td>0.004760</td>\n",
       "      <td>-0.035410</td>\n",
       "      <td>-0.029294</td>\n",
       "      <td>0.002234</td>\n",
       "      <td>0.016822</td>\n",
       "      <td>-0.014578</td>\n",
       "      <td>-0.023599</td>\n",
       "      <td>0.009980</td>\n",
       "      <td>0.020046</td>\n",
       "      <td>0.162490</td>\n",
       "      <td>0.054868</td>\n",
       "      <td>1.000000</td>\n",
       "      <td>-0.088628</td>\n",
       "      <td>-0.032855</td>\n",
       "      <td>0.089798</td>\n",
       "      <td>-0.073172</td>\n",
       "    </tr>\n",
       "    <tr>\n",
       "      <th>pdays</th>\n",
       "      <td>-0.023758</td>\n",
       "      <td>0.007492</td>\n",
       "      <td>0.020832</td>\n",
       "      <td>-0.010713</td>\n",
       "      <td>-0.029979</td>\n",
       "      <td>0.003435</td>\n",
       "      <td>0.124178</td>\n",
       "      <td>-0.022754</td>\n",
       "      <td>0.210651</td>\n",
       "      <td>-0.093044</td>\n",
       "      <td>-0.108940</td>\n",
       "      <td>-0.088628</td>\n",
       "      <td>1.000000</td>\n",
       "      <td>0.454820</td>\n",
       "      <td>-0.587264</td>\n",
       "      <td>0.103621</td>\n",
       "    </tr>\n",
       "    <tr>\n",
       "      <th>previous</th>\n",
       "      <td>0.001288</td>\n",
       "      <td>-0.006466</td>\n",
       "      <td>0.006876</td>\n",
       "      <td>-0.024818</td>\n",
       "      <td>-0.018329</td>\n",
       "      <td>0.016674</td>\n",
       "      <td>0.037076</td>\n",
       "      <td>-0.011043</td>\n",
       "      <td>0.139518</td>\n",
       "      <td>-0.051710</td>\n",
       "      <td>-0.035600</td>\n",
       "      <td>-0.032855</td>\n",
       "      <td>0.454820</td>\n",
       "      <td>1.000000</td>\n",
       "      <td>-0.284312</td>\n",
       "      <td>0.093236</td>\n",
       "    </tr>\n",
       "    <tr>\n",
       "      <th>poutcome</th>\n",
       "      <td>-0.011541</td>\n",
       "      <td>0.001196</td>\n",
       "      <td>0.001636</td>\n",
       "      <td>0.027320</td>\n",
       "      <td>0.026062</td>\n",
       "      <td>-0.017669</td>\n",
       "      <td>-0.061869</td>\n",
       "      <td>0.013531</td>\n",
       "      <td>-0.159046</td>\n",
       "      <td>0.061163</td>\n",
       "      <td>0.024025</td>\n",
       "      <td>0.089798</td>\n",
       "      <td>-0.587264</td>\n",
       "      <td>-0.284312</td>\n",
       "      <td>1.000000</td>\n",
       "      <td>-0.080718</td>\n",
       "    </tr>\n",
       "    <tr>\n",
       "      <th>y</th>\n",
       "      <td>0.025155</td>\n",
       "      <td>0.022396</td>\n",
       "      <td>0.043846</td>\n",
       "      <td>-0.058675</td>\n",
       "      <td>-0.022419</td>\n",
       "      <td>0.052838</td>\n",
       "      <td>-0.139173</td>\n",
       "      <td>-0.068185</td>\n",
       "      <td>0.130590</td>\n",
       "      <td>-0.028348</td>\n",
       "      <td>0.018717</td>\n",
       "      <td>-0.073172</td>\n",
       "      <td>0.103621</td>\n",
       "      <td>0.093236</td>\n",
       "      <td>-0.080718</td>\n",
       "      <td>1.000000</td>\n",
       "    </tr>\n",
       "  </tbody>\n",
       "</table>\n",
       "</div>"
      ],
      "text/plain": [
       "                age       job   marital  education   default   balance  \\\n",
       "age        1.000000  0.004262 -0.126351   0.197850 -0.017879  0.097783   \n",
       "job        0.004262  1.000000  0.025000   0.259541 -0.007340 -0.029654   \n",
       "marital   -0.126351  0.025000  1.000000  -0.109133  0.018404 -0.028172   \n",
       "education  0.197850  0.259541 -0.109133   1.000000  0.008114 -0.048649   \n",
       "default   -0.017879 -0.007340  0.018404   0.008114  1.000000 -0.066745   \n",
       "balance    0.097783 -0.029654 -0.028172  -0.048649 -0.066745  1.000000   \n",
       "housing   -0.185513 -0.041317 -0.011671   0.044788 -0.006025 -0.068768   \n",
       "loan      -0.015655 -0.012578 -0.018526   0.002191  0.077234 -0.084350   \n",
       "contact    0.092577  0.001588 -0.014290  -0.068756 -0.024095  0.047701   \n",
       "day       -0.009120 -0.027535 -0.005217  -0.024666  0.009424  0.004503   \n",
       "month      0.092903 -0.064629 -0.044321  -0.061310  0.014989  0.094605   \n",
       "campaign   0.004760 -0.035410 -0.029294   0.002234  0.016822 -0.014578   \n",
       "pdays     -0.023758  0.007492  0.020832  -0.010713 -0.029979  0.003435   \n",
       "previous   0.001288 -0.006466  0.006876  -0.024818 -0.018329  0.016674   \n",
       "poutcome  -0.011541  0.001196  0.001636   0.027320  0.026062 -0.017669   \n",
       "y          0.025155  0.022396  0.043846  -0.058675 -0.022419  0.052838   \n",
       "\n",
       "            housing      loan   contact       day     month  campaign  \\\n",
       "age       -0.185513 -0.015655  0.092577 -0.009120  0.092903  0.004760   \n",
       "job       -0.041317 -0.012578  0.001588 -0.027535 -0.064629 -0.035410   \n",
       "marital   -0.011671 -0.018526 -0.014290 -0.005217 -0.044321 -0.029294   \n",
       "education  0.044788  0.002191 -0.068756 -0.024666 -0.061310  0.002234   \n",
       "default   -0.006025  0.077234 -0.024095  0.009424  0.014989  0.016822   \n",
       "balance   -0.068768 -0.084350  0.047701  0.004503  0.094605 -0.014578   \n",
       "housing    1.000000  0.041323 -0.207722 -0.027982 -0.173887 -0.023599   \n",
       "loan       0.041323  1.000000  0.000058  0.011370  0.021638  0.009980   \n",
       "contact   -0.207722  0.000058  1.000000  0.038643  0.167103  0.020046   \n",
       "day       -0.027982  0.011370  0.038643  1.000000  0.101989  0.162490   \n",
       "month     -0.173887  0.021638  0.167103  0.101989  1.000000  0.054868   \n",
       "campaign  -0.023599  0.009980  0.020046  0.162490  0.054868  1.000000   \n",
       "pdays      0.124178 -0.022754  0.210651 -0.093044 -0.108940 -0.088628   \n",
       "previous   0.037076 -0.011043  0.139518 -0.051710 -0.035600 -0.032855   \n",
       "poutcome  -0.061869  0.013531 -0.159046  0.061163  0.024025  0.089798   \n",
       "y         -0.139173 -0.068185  0.130590 -0.028348  0.018717 -0.073172   \n",
       "\n",
       "              pdays  previous  poutcome         y  \n",
       "age       -0.023758  0.001288 -0.011541  0.025155  \n",
       "job        0.007492 -0.006466  0.001196  0.022396  \n",
       "marital    0.020832  0.006876  0.001636  0.043846  \n",
       "education -0.010713 -0.024818  0.027320 -0.058675  \n",
       "default   -0.029979 -0.018329  0.026062 -0.022419  \n",
       "balance    0.003435  0.016674 -0.017669  0.052838  \n",
       "housing    0.124178  0.037076 -0.061869 -0.139173  \n",
       "loan      -0.022754 -0.011043  0.013531 -0.068185  \n",
       "contact    0.210651  0.139518 -0.159046  0.130590  \n",
       "day       -0.093044 -0.051710  0.061163 -0.028348  \n",
       "month     -0.108940 -0.035600  0.024025  0.018717  \n",
       "campaign  -0.088628 -0.032855  0.089798 -0.073172  \n",
       "pdays      1.000000  0.454820 -0.587264  0.103621  \n",
       "previous   0.454820  1.000000 -0.284312  0.093236  \n",
       "poutcome  -0.587264 -0.284312  1.000000 -0.080718  \n",
       "y          0.103621  0.093236 -0.080718  1.000000  "
      ]
     },
     "execution_count": 38,
     "metadata": {},
     "output_type": "execute_result"
    }
   ],
   "source": [
    "data.corr()                                                                      # finding the correlation"
   ]
  },
  {
   "cell_type": "code",
   "execution_count": 39,
   "metadata": {},
   "outputs": [
    {
     "data": {
      "image/png": "[encoded data removed]",
      "text/plain": [
       "<Figure size 864x720 with 2 Axes>"
      ]
     },
     "metadata": {
      "needs_background": "light"
     },
     "output_type": "display_data"
    }
   ],
   "source": [
    "plt.figure(figsize=(12,10))  # on this line I just set the size of figure to 12 by 10.\n",
    "p=sns.heatmap(data.corr(), annot=True,cmap ='RdYlGn')               #heatmap for correlation"
   ]
  },
  {
   "cell_type": "code",
   "execution_count": 40,
   "metadata": {},
   "outputs": [
    {
     "name": "stdout",
     "output_type": "stream",
     "text": [
      "(45211, 15)\n",
      "(45211,)\n"
     ]
    }
   ],
   "source": [
    "columns=data.columns.tolist()\n",
    "columns=[c for c in columns if c not in ['y']]\n",
    "target='y'\n",
    "state=np.random.RandomState(42)\n",
    "X=data[columns]                                                         #splittig dependent and independent features\n",
    "Y=data[target]\n",
    "\n",
    "print(X.shape)\n",
    "print(Y.shape)"
   ]
  },
  {
   "cell_type": "code",
   "execution_count": 41,
   "metadata": {},
   "outputs": [],
   "source": [
    "from imblearn.over_sampling import RandomOverSampler                 # handling imbalanced data\n",
    "os=RandomOverSampler(sampling_strategy=1)\n",
    "x,y=os.fit_resample(X,Y)"
   ]
  },
  {
   "cell_type": "code",
   "execution_count": null,
   "metadata": {},
   "outputs": [],
   "source": []
  },
  {
   "cell_type": "code",
   "execution_count": 42,
   "metadata": {},
   "outputs": [
    {
     "data": {
      "text/plain": [
       "Index(['age', 'job', 'marital', 'education', 'default', 'balance', 'housing',\n",
       "       'loan', 'contact', 'day', 'month', 'campaign', 'pdays', 'previous',\n",
       "       'poutcome', 'y'],\n",
       "      dtype='object')"
      ]
     },
     "execution_count": 42,
     "metadata": {},
     "output_type": "execute_result"
    }
   ],
   "source": [
    "data.columns"
   ]
  },
  {
   "cell_type": "code",
   "execution_count": 43,
   "metadata": {},
   "outputs": [
    {
     "data": {
      "text/html": [
       "<div>\n",
       "<style scoped>\n",
       "    .dataframe tbody tr th:only-of-type {\n",
       "        vertical-align: middle;\n",
       "    }\n",
       "\n",
       "    .dataframe tbody tr th {\n",
       "        vertical-align: top;\n",
       "    }\n",
       "\n",
       "    .dataframe thead th {\n",
       "        text-align: right;\n",
       "    }\n",
       "</style>\n",
       "<table border=\"1\" class=\"dataframe\">\n",
       "  <thead>\n",
       "    <tr style=\"text-align: right;\">\n",
       "      <th></th>\n",
       "      <th>age</th>\n",
       "      <th>job</th>\n",
       "      <th>marital</th>\n",
       "      <th>education</th>\n",
       "      <th>default</th>\n",
       "      <th>balance</th>\n",
       "      <th>housing</th>\n",
       "      <th>loan</th>\n",
       "      <th>contact</th>\n",
       "      <th>day</th>\n",
       "      <th>month</th>\n",
       "      <th>campaign</th>\n",
       "      <th>pdays</th>\n",
       "      <th>previous</th>\n",
       "      <th>poutcome</th>\n",
       "      <th>y</th>\n",
       "    </tr>\n",
       "  </thead>\n",
       "  <tbody>\n",
       "    <tr>\n",
       "      <th>count</th>\n",
       "      <td>45211.000000</td>\n",
       "      <td>45211.000000</td>\n",
       "      <td>45211.000000</td>\n",
       "      <td>45211.000000</td>\n",
       "      <td>45211.000000</td>\n",
       "      <td>45211.000000</td>\n",
       "      <td>45211.000000</td>\n",
       "      <td>45211.000000</td>\n",
       "      <td>45211.000000</td>\n",
       "      <td>45211.000000</td>\n",
       "      <td>45211.000000</td>\n",
       "      <td>45211.000000</td>\n",
       "      <td>45211.000000</td>\n",
       "      <td>45211.000000</td>\n",
       "      <td>45211.000000</td>\n",
       "      <td>45211.000000</td>\n",
       "    </tr>\n",
       "    <tr>\n",
       "      <th>mean</th>\n",
       "      <td>40.936210</td>\n",
       "      <td>3.526133</td>\n",
       "      <td>0.513238</td>\n",
       "      <td>1.049944</td>\n",
       "      <td>0.018027</td>\n",
       "      <td>1362.272058</td>\n",
       "      <td>0.555838</td>\n",
       "      <td>0.160226</td>\n",
       "      <td>0.776293</td>\n",
       "      <td>15.806419</td>\n",
       "      <td>6.144655</td>\n",
       "      <td>2.763841</td>\n",
       "      <td>40.197828</td>\n",
       "      <td>0.580323</td>\n",
       "      <td>1.790471</td>\n",
       "      <td>0.116985</td>\n",
       "    </tr>\n",
       "    <tr>\n",
       "      <th>std</th>\n",
       "      <td>10.618762</td>\n",
       "      <td>3.098343</td>\n",
       "      <td>0.692948</td>\n",
       "      <td>0.968986</td>\n",
       "      <td>0.133049</td>\n",
       "      <td>3044.765829</td>\n",
       "      <td>0.496878</td>\n",
       "      <td>0.366820</td>\n",
       "      <td>0.549747</td>\n",
       "      <td>8.322476</td>\n",
       "      <td>2.408034</td>\n",
       "      <td>3.098021</td>\n",
       "      <td>100.128746</td>\n",
       "      <td>2.303441</td>\n",
       "      <td>0.681057</td>\n",
       "      <td>0.321406</td>\n",
       "    </tr>\n",
       "    <tr>\n",
       "      <th>min</th>\n",
       "      <td>18.000000</td>\n",
       "      <td>0.000000</td>\n",
       "      <td>0.000000</td>\n",
       "      <td>0.000000</td>\n",
       "      <td>0.000000</td>\n",
       "      <td>-8019.000000</td>\n",
       "      <td>0.000000</td>\n",
       "      <td>0.000000</td>\n",
       "      <td>0.000000</td>\n",
       "      <td>1.000000</td>\n",
       "      <td>1.000000</td>\n",
       "      <td>1.000000</td>\n",
       "      <td>-1.000000</td>\n",
       "      <td>0.000000</td>\n",
       "      <td>0.000000</td>\n",
       "      <td>0.000000</td>\n",
       "    </tr>\n",
       "    <tr>\n",
       "      <th>25%</th>\n",
       "      <td>33.000000</td>\n",
       "      <td>1.000000</td>\n",
       "      <td>0.000000</td>\n",
       "      <td>0.000000</td>\n",
       "      <td>0.000000</td>\n",
       "      <td>72.000000</td>\n",
       "      <td>0.000000</td>\n",
       "      <td>0.000000</td>\n",
       "      <td>0.000000</td>\n",
       "      <td>8.000000</td>\n",
       "      <td>5.000000</td>\n",
       "      <td>1.000000</td>\n",
       "      <td>-1.000000</td>\n",
       "      <td>0.000000</td>\n",
       "      <td>2.000000</td>\n",
       "      <td>0.000000</td>\n",
       "    </tr>\n",
       "    <tr>\n",
       "      <th>50%</th>\n",
       "      <td>39.000000</td>\n",
       "      <td>3.000000</td>\n",
       "      <td>0.000000</td>\n",
       "      <td>1.000000</td>\n",
       "      <td>0.000000</td>\n",
       "      <td>448.000000</td>\n",
       "      <td>1.000000</td>\n",
       "      <td>0.000000</td>\n",
       "      <td>1.000000</td>\n",
       "      <td>16.000000</td>\n",
       "      <td>6.000000</td>\n",
       "      <td>2.000000</td>\n",
       "      <td>-1.000000</td>\n",
       "      <td>0.000000</td>\n",
       "      <td>2.000000</td>\n",
       "      <td>0.000000</td>\n",
       "    </tr>\n",
       "    <tr>\n",
       "      <th>75%</th>\n",
       "      <td>48.000000</td>\n",
       "      <td>6.000000</td>\n",
       "      <td>1.000000</td>\n",
       "      <td>1.000000</td>\n",
       "      <td>0.000000</td>\n",
       "      <td>1428.000000</td>\n",
       "      <td>1.000000</td>\n",
       "      <td>0.000000</td>\n",
       "      <td>1.000000</td>\n",
       "      <td>21.000000</td>\n",
       "      <td>8.000000</td>\n",
       "      <td>3.000000</td>\n",
       "      <td>-1.000000</td>\n",
       "      <td>0.000000</td>\n",
       "      <td>2.000000</td>\n",
       "      <td>0.000000</td>\n",
       "    </tr>\n",
       "    <tr>\n",
       "      <th>max</th>\n",
       "      <td>95.000000</td>\n",
       "      <td>11.000000</td>\n",
       "      <td>2.000000</td>\n",
       "      <td>3.000000</td>\n",
       "      <td>1.000000</td>\n",
       "      <td>102127.000000</td>\n",
       "      <td>1.000000</td>\n",
       "      <td>1.000000</td>\n",
       "      <td>2.000000</td>\n",
       "      <td>31.000000</td>\n",
       "      <td>12.000000</td>\n",
       "      <td>63.000000</td>\n",
       "      <td>871.000000</td>\n",
       "      <td>275.000000</td>\n",
       "      <td>3.000000</td>\n",
       "      <td>1.000000</td>\n",
       "    </tr>\n",
       "  </tbody>\n",
       "</table>\n",
       "</div>"
      ],
      "text/plain": [
       "                age           job       marital     education       default  \\\n",
       "count  45211.000000  45211.000000  45211.000000  45211.000000  45211.000000   \n",
       "mean      40.936210      3.526133      0.513238      1.049944      0.018027   \n",
       "std       10.618762      3.098343      0.692948      0.968986      0.133049   \n",
       "min       18.000000      0.000000      0.000000      0.000000      0.000000   \n",
       "25%       33.000000      1.000000      0.000000      0.000000      0.000000   \n",
       "50%       39.000000      3.000000      0.000000      1.000000      0.000000   \n",
       "75%       48.000000      6.000000      1.000000      1.000000      0.000000   \n",
       "max       95.000000     11.000000      2.000000      3.000000      1.000000   \n",
       "\n",
       "             balance       housing          loan       contact           day  \\\n",
       "count   45211.000000  45211.000000  45211.000000  45211.000000  45211.000000   \n",
       "mean     1362.272058      0.555838      0.160226      0.776293     15.806419   \n",
       "std      3044.765829      0.496878      0.366820      0.549747      8.322476   \n",
       "min     -8019.000000      0.000000      0.000000      0.000000      1.000000   \n",
       "25%        72.000000      0.000000      0.000000      0.000000      8.000000   \n",
       "50%       448.000000      1.000000      0.000000      1.000000     16.000000   \n",
       "75%      1428.000000      1.000000      0.000000      1.000000     21.000000   \n",
       "max    102127.000000      1.000000      1.000000      2.000000     31.000000   \n",
       "\n",
       "              month      campaign         pdays      previous      poutcome  \\\n",
       "count  45211.000000  45211.000000  45211.000000  45211.000000  45211.000000   \n",
       "mean       6.144655      2.763841     40.197828      0.580323      1.790471   \n",
       "std        2.408034      3.098021    100.128746      2.303441      0.681057   \n",
       "min        1.000000      1.000000     -1.000000      0.000000      0.000000   \n",
       "25%        5.000000      1.000000     -1.000000      0.000000      2.000000   \n",
       "50%        6.000000      2.000000     -1.000000      0.000000      2.000000   \n",
       "75%        8.000000      3.000000     -1.000000      0.000000      2.000000   \n",
       "max       12.000000     63.000000    871.000000    275.000000      3.000000   \n",
       "\n",
       "                  y  \n",
       "count  45211.000000  \n",
       "mean       0.116985  \n",
       "std        0.321406  \n",
       "min        0.000000  \n",
       "25%        0.000000  \n",
       "50%        0.000000  \n",
       "75%        0.000000  \n",
       "max        1.000000  "
      ]
     },
     "execution_count": 43,
     "metadata": {},
     "output_type": "execute_result"
    }
   ],
   "source": [
    "data.describe()"
   ]
  },
  {
   "cell_type": "code",
   "execution_count": null,
   "metadata": {},
   "outputs": [],
   "source": []
  },
  {
   "cell_type": "code",
   "execution_count": 45,
   "metadata": {},
   "outputs": [],
   "source": [
    "from sklearn.preprocessing import StandardScaler                       # scaling the input data\n",
    "sc_X = StandardScaler()\n",
    "x =  pd.DataFrame(sc_X.fit_transform(x),\n",
    "        columns=[ 'age','job', 'marital', 'education', 'default', 'balance', 'housing',\n",
    "       'loan', 'contact', 'day', 'month', 'campaign', 'pdays',\n",
    "       'previous', 'poutcome'])"
   ]
  },
  {
   "cell_type": "code",
   "execution_count": 46,
   "metadata": {},
   "outputs": [
    {
     "data": {
      "text/html": [
       "<div>\n",
       "<style scoped>\n",
       "    .dataframe tbody tr th:only-of-type {\n",
       "        vertical-align: middle;\n",
       "    }\n",
       "\n",
       "    .dataframe tbody tr th {\n",
       "        vertical-align: top;\n",
       "    }\n",
       "\n",
       "    .dataframe thead th {\n",
       "        text-align: right;\n",
       "    }\n",
       "</style>\n",
       "<table border=\"1\" class=\"dataframe\">\n",
       "  <thead>\n",
       "    <tr style=\"text-align: right;\">\n",
       "      <th></th>\n",
       "      <th>age</th>\n",
       "      <th>job</th>\n",
       "      <th>marital</th>\n",
       "      <th>education</th>\n",
       "      <th>default</th>\n",
       "      <th>balance</th>\n",
       "      <th>housing</th>\n",
       "      <th>loan</th>\n",
       "      <th>contact</th>\n",
       "      <th>day</th>\n",
       "      <th>month</th>\n",
       "      <th>campaign</th>\n",
       "      <th>pdays</th>\n",
       "      <th>previous</th>\n",
       "      <th>poutcome</th>\n",
       "    </tr>\n",
       "  </thead>\n",
       "  <tbody>\n",
       "    <tr>\n",
       "      <th>0</th>\n",
       "      <td>1.398797</td>\n",
       "      <td>-1.114832</td>\n",
       "      <td>-0.792130</td>\n",
       "      <td>-1.027312</td>\n",
       "      <td>-0.122213</td>\n",
       "      <td>0.187604</td>\n",
       "      <td>1.053559</td>\n",
       "      <td>-0.386219</td>\n",
       "      <td>-1.698781</td>\n",
       "      <td>-1.25725</td>\n",
       "      <td>-0.467712</td>\n",
       "      <td>-0.562971</td>\n",
       "      <td>-0.484742</td>\n",
       "      <td>-0.334368</td>\n",
       "      <td>0.380682</td>\n",
       "    </tr>\n",
       "    <tr>\n",
       "      <th>1</th>\n",
       "      <td>0.227949</td>\n",
       "      <td>-0.805210</td>\n",
       "      <td>0.650182</td>\n",
       "      <td>0.021852</td>\n",
       "      <td>-0.122213</td>\n",
       "      <td>-0.472658</td>\n",
       "      <td>1.053559</td>\n",
       "      <td>-0.386219</td>\n",
       "      <td>-1.698781</td>\n",
       "      <td>-1.25725</td>\n",
       "      <td>-0.467712</td>\n",
       "      <td>-0.562971</td>\n",
       "      <td>-0.484742</td>\n",
       "      <td>-0.334368</td>\n",
       "      <td>0.380682</td>\n",
       "    </tr>\n",
       "    <tr>\n",
       "      <th>2</th>\n",
       "      <td>-0.692003</td>\n",
       "      <td>-0.495588</td>\n",
       "      <td>-0.792130</td>\n",
       "      <td>0.021852</td>\n",
       "      <td>-0.122213</td>\n",
       "      <td>-0.481091</td>\n",
       "      <td>1.053559</td>\n",
       "      <td>2.589204</td>\n",
       "      <td>-1.698781</td>\n",
       "      <td>-1.25725</td>\n",
       "      <td>-0.467712</td>\n",
       "      <td>-0.562971</td>\n",
       "      <td>-0.484742</td>\n",
       "      <td>-0.334368</td>\n",
       "      <td>0.380682</td>\n",
       "    </tr>\n",
       "    <tr>\n",
       "      <th>3</th>\n",
       "      <td>0.478845</td>\n",
       "      <td>-0.185966</td>\n",
       "      <td>-0.792130</td>\n",
       "      <td>1.071016</td>\n",
       "      <td>-0.122213</td>\n",
       "      <td>-0.011349</td>\n",
       "      <td>1.053559</td>\n",
       "      <td>-0.386219</td>\n",
       "      <td>-1.698781</td>\n",
       "      <td>-1.25725</td>\n",
       "      <td>-0.467712</td>\n",
       "      <td>-0.562971</td>\n",
       "      <td>-0.484742</td>\n",
       "      <td>-0.334368</td>\n",
       "      <td>0.380682</td>\n",
       "    </tr>\n",
       "    <tr>\n",
       "      <th>4</th>\n",
       "      <td>-0.692003</td>\n",
       "      <td>0.123656</td>\n",
       "      <td>0.650182</td>\n",
       "      <td>1.071016</td>\n",
       "      <td>-0.122213</td>\n",
       "      <td>-0.481403</td>\n",
       "      <td>-0.949164</td>\n",
       "      <td>-0.386219</td>\n",
       "      <td>-1.698781</td>\n",
       "      <td>-1.25725</td>\n",
       "      <td>-0.467712</td>\n",
       "      <td>-0.562971</td>\n",
       "      <td>-0.484742</td>\n",
       "      <td>-0.334368</td>\n",
       "      <td>0.380682</td>\n",
       "    </tr>\n",
       "  </tbody>\n",
       "</table>\n",
       "</div>"
      ],
      "text/plain": [
       "        age       job   marital  education   default   balance   housing  \\\n",
       "0  1.398797 -1.114832 -0.792130  -1.027312 -0.122213  0.187604  1.053559   \n",
       "1  0.227949 -0.805210  0.650182   0.021852 -0.122213 -0.472658  1.053559   \n",
       "2 -0.692003 -0.495588 -0.792130   0.021852 -0.122213 -0.481091  1.053559   \n",
       "3  0.478845 -0.185966 -0.792130   1.071016 -0.122213 -0.011349  1.053559   \n",
       "4 -0.692003  0.123656  0.650182   1.071016 -0.122213 -0.481403 -0.949164   \n",
       "\n",
       "       loan   contact      day     month  campaign     pdays  previous  \\\n",
       "0 -0.386219 -1.698781 -1.25725 -0.467712 -0.562971 -0.484742 -0.334368   \n",
       "1 -0.386219 -1.698781 -1.25725 -0.467712 -0.562971 -0.484742 -0.334368   \n",
       "2  2.589204 -1.698781 -1.25725 -0.467712 -0.562971 -0.484742 -0.334368   \n",
       "3 -0.386219 -1.698781 -1.25725 -0.467712 -0.562971 -0.484742 -0.334368   \n",
       "4 -0.386219 -1.698781 -1.25725 -0.467712 -0.562971 -0.484742 -0.334368   \n",
       "\n",
       "   poutcome  \n",
       "0  0.380682  \n",
       "1  0.380682  \n",
       "2  0.380682  \n",
       "3  0.380682  \n",
       "4  0.380682  "
      ]
     },
     "execution_count": 46,
     "metadata": {},
     "output_type": "execute_result"
    }
   ],
   "source": [
    "x.head()"
   ]
  },
  {
   "cell_type": "code",
   "execution_count": 47,
   "metadata": {},
   "outputs": [
    {
     "data": {
      "text/html": [
       "<div>\n",
       "<style scoped>\n",
       "    .dataframe tbody tr th:only-of-type {\n",
       "        vertical-align: middle;\n",
       "    }\n",
       "\n",
       "    .dataframe tbody tr th {\n",
       "        vertical-align: top;\n",
       "    }\n",
       "\n",
       "    .dataframe thead th {\n",
       "        text-align: right;\n",
       "    }\n",
       "</style>\n",
       "<table border=\"1\" class=\"dataframe\">\n",
       "  <thead>\n",
       "    <tr style=\"text-align: right;\">\n",
       "      <th></th>\n",
       "      <th>age</th>\n",
       "      <th>job</th>\n",
       "      <th>marital</th>\n",
       "      <th>education</th>\n",
       "      <th>default</th>\n",
       "      <th>balance</th>\n",
       "      <th>housing</th>\n",
       "      <th>loan</th>\n",
       "      <th>contact</th>\n",
       "      <th>day</th>\n",
       "      <th>month</th>\n",
       "      <th>campaign</th>\n",
       "      <th>pdays</th>\n",
       "      <th>previous</th>\n",
       "      <th>poutcome</th>\n",
       "    </tr>\n",
       "  </thead>\n",
       "  <tbody>\n",
       "    <tr>\n",
       "      <th>0</th>\n",
       "      <td>1.398797</td>\n",
       "      <td>-1.114832</td>\n",
       "      <td>-0.792130</td>\n",
       "      <td>-1.027312</td>\n",
       "      <td>-0.122213</td>\n",
       "      <td>0.187604</td>\n",
       "      <td>1.053559</td>\n",
       "      <td>-0.386219</td>\n",
       "      <td>-1.698781</td>\n",
       "      <td>-1.257250</td>\n",
       "      <td>-0.467712</td>\n",
       "      <td>-0.562971</td>\n",
       "      <td>-0.484742</td>\n",
       "      <td>-0.334368</td>\n",
       "      <td>0.380682</td>\n",
       "    </tr>\n",
       "    <tr>\n",
       "      <th>1</th>\n",
       "      <td>0.227949</td>\n",
       "      <td>-0.805210</td>\n",
       "      <td>0.650182</td>\n",
       "      <td>0.021852</td>\n",
       "      <td>-0.122213</td>\n",
       "      <td>-0.472658</td>\n",
       "      <td>1.053559</td>\n",
       "      <td>-0.386219</td>\n",
       "      <td>-1.698781</td>\n",
       "      <td>-1.257250</td>\n",
       "      <td>-0.467712</td>\n",
       "      <td>-0.562971</td>\n",
       "      <td>-0.484742</td>\n",
       "      <td>-0.334368</td>\n",
       "      <td>0.380682</td>\n",
       "    </tr>\n",
       "    <tr>\n",
       "      <th>2</th>\n",
       "      <td>-0.692003</td>\n",
       "      <td>-0.495588</td>\n",
       "      <td>-0.792130</td>\n",
       "      <td>0.021852</td>\n",
       "      <td>-0.122213</td>\n",
       "      <td>-0.481091</td>\n",
       "      <td>1.053559</td>\n",
       "      <td>2.589204</td>\n",
       "      <td>-1.698781</td>\n",
       "      <td>-1.257250</td>\n",
       "      <td>-0.467712</td>\n",
       "      <td>-0.562971</td>\n",
       "      <td>-0.484742</td>\n",
       "      <td>-0.334368</td>\n",
       "      <td>0.380682</td>\n",
       "    </tr>\n",
       "    <tr>\n",
       "      <th>3</th>\n",
       "      <td>0.478845</td>\n",
       "      <td>-0.185966</td>\n",
       "      <td>-0.792130</td>\n",
       "      <td>1.071016</td>\n",
       "      <td>-0.122213</td>\n",
       "      <td>-0.011349</td>\n",
       "      <td>1.053559</td>\n",
       "      <td>-0.386219</td>\n",
       "      <td>-1.698781</td>\n",
       "      <td>-1.257250</td>\n",
       "      <td>-0.467712</td>\n",
       "      <td>-0.562971</td>\n",
       "      <td>-0.484742</td>\n",
       "      <td>-0.334368</td>\n",
       "      <td>0.380682</td>\n",
       "    </tr>\n",
       "    <tr>\n",
       "      <th>4</th>\n",
       "      <td>-0.692003</td>\n",
       "      <td>0.123656</td>\n",
       "      <td>0.650182</td>\n",
       "      <td>1.071016</td>\n",
       "      <td>-0.122213</td>\n",
       "      <td>-0.481403</td>\n",
       "      <td>-0.949164</td>\n",
       "      <td>-0.386219</td>\n",
       "      <td>-1.698781</td>\n",
       "      <td>-1.257250</td>\n",
       "      <td>-0.467712</td>\n",
       "      <td>-0.562971</td>\n",
       "      <td>-0.484742</td>\n",
       "      <td>-0.334368</td>\n",
       "      <td>0.380682</td>\n",
       "    </tr>\n",
       "    <tr>\n",
       "      <th>...</th>\n",
       "      <td>...</td>\n",
       "      <td>...</td>\n",
       "      <td>...</td>\n",
       "      <td>...</td>\n",
       "      <td>...</td>\n",
       "      <td>...</td>\n",
       "      <td>...</td>\n",
       "      <td>...</td>\n",
       "      <td>...</td>\n",
       "      <td>...</td>\n",
       "      <td>...</td>\n",
       "      <td>...</td>\n",
       "      <td>...</td>\n",
       "      <td>...</td>\n",
       "      <td>...</td>\n",
       "    </tr>\n",
       "    <tr>\n",
       "      <th>79839</th>\n",
       "      <td>0.980637</td>\n",
       "      <td>0.742901</td>\n",
       "      <td>2.092494</td>\n",
       "      <td>1.071016</td>\n",
       "      <td>-0.122213</td>\n",
       "      <td>-0.401447</td>\n",
       "      <td>-0.949164</td>\n",
       "      <td>-0.386219</td>\n",
       "      <td>0.275793</td>\n",
       "      <td>-0.543299</td>\n",
       "      <td>0.312417</td>\n",
       "      <td>-0.187227</td>\n",
       "      <td>-0.484742</td>\n",
       "      <td>-0.334368</td>\n",
       "      <td>0.380682</td>\n",
       "    </tr>\n",
       "    <tr>\n",
       "      <th>79840</th>\n",
       "      <td>1.315165</td>\n",
       "      <td>-1.114832</td>\n",
       "      <td>-0.792130</td>\n",
       "      <td>-1.027312</td>\n",
       "      <td>-0.122213</td>\n",
       "      <td>-0.222483</td>\n",
       "      <td>1.053559</td>\n",
       "      <td>2.589204</td>\n",
       "      <td>0.275793</td>\n",
       "      <td>-0.900274</td>\n",
       "      <td>-0.467712</td>\n",
       "      <td>-0.562971</td>\n",
       "      <td>2.869648</td>\n",
       "      <td>0.066432</td>\n",
       "      <td>-1.010020</td>\n",
       "    </tr>\n",
       "    <tr>\n",
       "      <th>79841</th>\n",
       "      <td>0.395213</td>\n",
       "      <td>1.981389</td>\n",
       "      <td>-0.792130</td>\n",
       "      <td>0.021852</td>\n",
       "      <td>-0.122213</td>\n",
       "      <td>-0.469847</td>\n",
       "      <td>-0.949164</td>\n",
       "      <td>-0.386219</td>\n",
       "      <td>0.275793</td>\n",
       "      <td>1.122586</td>\n",
       "      <td>1.872676</td>\n",
       "      <td>-0.562971</td>\n",
       "      <td>-0.484742</td>\n",
       "      <td>-0.334368</td>\n",
       "      <td>0.380682</td>\n",
       "    </tr>\n",
       "    <tr>\n",
       "      <th>79842</th>\n",
       "      <td>-0.022947</td>\n",
       "      <td>0.742901</td>\n",
       "      <td>-0.792130</td>\n",
       "      <td>2.120179</td>\n",
       "      <td>-0.122213</td>\n",
       "      <td>-0.577288</td>\n",
       "      <td>1.053559</td>\n",
       "      <td>-0.386219</td>\n",
       "      <td>-1.698781</td>\n",
       "      <td>-0.067332</td>\n",
       "      <td>-0.467712</td>\n",
       "      <td>-0.562971</td>\n",
       "      <td>-0.484742</td>\n",
       "      <td>-0.334368</td>\n",
       "      <td>0.380682</td>\n",
       "    </tr>\n",
       "    <tr>\n",
       "      <th>79843</th>\n",
       "      <td>-0.524739</td>\n",
       "      <td>1.052523</td>\n",
       "      <td>-0.792130</td>\n",
       "      <td>0.021852</td>\n",
       "      <td>-0.122213</td>\n",
       "      <td>-0.465475</td>\n",
       "      <td>1.053559</td>\n",
       "      <td>-0.386219</td>\n",
       "      <td>0.275793</td>\n",
       "      <td>-1.614225</td>\n",
       "      <td>-1.247841</td>\n",
       "      <td>0.564260</td>\n",
       "      <td>-0.484742</td>\n",
       "      <td>-0.334368</td>\n",
       "      <td>0.380682</td>\n",
       "    </tr>\n",
       "  </tbody>\n",
       "</table>\n",
       "<p>79844 rows × 15 columns</p>\n",
       "</div>"
      ],
      "text/plain": [
       "            age       job   marital  education   default   balance   housing  \\\n",
       "0      1.398797 -1.114832 -0.792130  -1.027312 -0.122213  0.187604  1.053559   \n",
       "1      0.227949 -0.805210  0.650182   0.021852 -0.122213 -0.472658  1.053559   \n",
       "2     -0.692003 -0.495588 -0.792130   0.021852 -0.122213 -0.481091  1.053559   \n",
       "3      0.478845 -0.185966 -0.792130   1.071016 -0.122213 -0.011349  1.053559   \n",
       "4     -0.692003  0.123656  0.650182   1.071016 -0.122213 -0.481403 -0.949164   \n",
       "...         ...       ...       ...        ...       ...       ...       ...   \n",
       "79839  0.980637  0.742901  2.092494   1.071016 -0.122213 -0.401447 -0.949164   \n",
       "79840  1.315165 -1.114832 -0.792130  -1.027312 -0.122213 -0.222483  1.053559   \n",
       "79841  0.395213  1.981389 -0.792130   0.021852 -0.122213 -0.469847 -0.949164   \n",
       "79842 -0.022947  0.742901 -0.792130   2.120179 -0.122213 -0.577288  1.053559   \n",
       "79843 -0.524739  1.052523 -0.792130   0.021852 -0.122213 -0.465475  1.053559   \n",
       "\n",
       "           loan   contact       day     month  campaign     pdays  previous  \\\n",
       "0     -0.386219 -1.698781 -1.257250 -0.467712 -0.562971 -0.484742 -0.334368   \n",
       "1     -0.386219 -1.698781 -1.257250 -0.467712 -0.562971 -0.484742 -0.334368   \n",
       "2      2.589204 -1.698781 -1.257250 -0.467712 -0.562971 -0.484742 -0.334368   \n",
       "3     -0.386219 -1.698781 -1.257250 -0.467712 -0.562971 -0.484742 -0.334368   \n",
       "4     -0.386219 -1.698781 -1.257250 -0.467712 -0.562971 -0.484742 -0.334368   \n",
       "...         ...       ...       ...       ...       ...       ...       ...   \n",
       "79839 -0.386219  0.275793 -0.543299  0.312417 -0.187227 -0.484742 -0.334368   \n",
       "79840  2.589204  0.275793 -0.900274 -0.467712 -0.562971  2.869648  0.066432   \n",
       "79841 -0.386219  0.275793  1.122586  1.872676 -0.562971 -0.484742 -0.334368   \n",
       "79842 -0.386219 -1.698781 -0.067332 -0.467712 -0.562971 -0.484742 -0.334368   \n",
       "79843 -0.386219  0.275793 -1.614225 -1.247841  0.564260 -0.484742 -0.334368   \n",
       "\n",
       "       poutcome  \n",
       "0      0.380682  \n",
       "1      0.380682  \n",
       "2      0.380682  \n",
       "3      0.380682  \n",
       "4      0.380682  \n",
       "...         ...  \n",
       "79839  0.380682  \n",
       "79840 -1.010020  \n",
       "79841  0.380682  \n",
       "79842  0.380682  \n",
       "79843  0.380682  \n",
       "\n",
       "[79844 rows x 15 columns]"
      ]
     },
     "execution_count": 47,
     "metadata": {},
     "output_type": "execute_result"
    }
   ],
   "source": [
    "x"
   ]
  },
  {
   "cell_type": "code",
   "execution_count": 52,
   "metadata": {},
   "outputs": [
    {
     "data": {
      "text/plain": [
       "0    0\n",
       "1    0\n",
       "2    0\n",
       "3    0\n",
       "4    0\n",
       "Name: y, dtype: int64"
      ]
     },
     "execution_count": 52,
     "metadata": {},
     "output_type": "execute_result"
    }
   ],
   "source": [
    "y.head()"
   ]
  },
  {
   "cell_type": "code",
   "execution_count": null,
   "metadata": {},
   "outputs": [],
   "source": []
  },
  {
   "cell_type": "code",
   "execution_count": 78,
   "metadata": {},
   "outputs": [],
   "source": [
    "#importing train_test_split\n",
    "from sklearn.model_selection import train_test_split\n",
    "x_train,x_test,y_train,y_test = train_test_split(x,y,test_size=0.25,random_state=355, stratify=y)"
   ]
  },
  {
   "cell_type": "code",
   "execution_count": 54,
   "metadata": {},
   "outputs": [
    {
     "data": {
      "text/html": [
       "<div>\n",
       "<style scoped>\n",
       "    .dataframe tbody tr th:only-of-type {\n",
       "        vertical-align: middle;\n",
       "    }\n",
       "\n",
       "    .dataframe tbody tr th {\n",
       "        vertical-align: top;\n",
       "    }\n",
       "\n",
       "    .dataframe thead th {\n",
       "        text-align: right;\n",
       "    }\n",
       "</style>\n",
       "<table border=\"1\" class=\"dataframe\">\n",
       "  <thead>\n",
       "    <tr style=\"text-align: right;\">\n",
       "      <th></th>\n",
       "      <th>age</th>\n",
       "      <th>job</th>\n",
       "      <th>marital</th>\n",
       "      <th>education</th>\n",
       "      <th>default</th>\n",
       "      <th>balance</th>\n",
       "      <th>housing</th>\n",
       "      <th>loan</th>\n",
       "      <th>contact</th>\n",
       "      <th>day</th>\n",
       "      <th>month</th>\n",
       "      <th>campaign</th>\n",
       "      <th>pdays</th>\n",
       "      <th>previous</th>\n",
       "      <th>poutcome</th>\n",
       "    </tr>\n",
       "  </thead>\n",
       "  <tbody>\n",
       "    <tr>\n",
       "      <th>3</th>\n",
       "      <td>0.478845</td>\n",
       "      <td>-0.185966</td>\n",
       "      <td>-0.792130</td>\n",
       "      <td>1.071016</td>\n",
       "      <td>-0.122213</td>\n",
       "      <td>-0.011349</td>\n",
       "      <td>1.053559</td>\n",
       "      <td>-0.386219</td>\n",
       "      <td>-1.698781</td>\n",
       "      <td>-1.257250</td>\n",
       "      <td>-0.467712</td>\n",
       "      <td>-0.562971</td>\n",
       "      <td>-0.484742</td>\n",
       "      <td>-0.334368</td>\n",
       "      <td>0.380682</td>\n",
       "    </tr>\n",
       "    <tr>\n",
       "      <th>63339</th>\n",
       "      <td>0.562477</td>\n",
       "      <td>-0.185966</td>\n",
       "      <td>-0.792130</td>\n",
       "      <td>2.120179</td>\n",
       "      <td>-0.122213</td>\n",
       "      <td>-0.257151</td>\n",
       "      <td>-0.949164</td>\n",
       "      <td>2.589204</td>\n",
       "      <td>0.275793</td>\n",
       "      <td>-0.543299</td>\n",
       "      <td>0.702482</td>\n",
       "      <td>0.940003</td>\n",
       "      <td>-0.484742</td>\n",
       "      <td>-0.334368</td>\n",
       "      <td>0.380682</td>\n",
       "    </tr>\n",
       "    <tr>\n",
       "      <th>63757</th>\n",
       "      <td>0.813373</td>\n",
       "      <td>-0.805210</td>\n",
       "      <td>-0.792130</td>\n",
       "      <td>0.021852</td>\n",
       "      <td>-0.122213</td>\n",
       "      <td>1.654612</td>\n",
       "      <td>-0.949164</td>\n",
       "      <td>-0.386219</td>\n",
       "      <td>2.250367</td>\n",
       "      <td>-1.019266</td>\n",
       "      <td>0.312417</td>\n",
       "      <td>-0.562971</td>\n",
       "      <td>-0.484742</td>\n",
       "      <td>-0.334368</td>\n",
       "      <td>0.380682</td>\n",
       "    </tr>\n",
       "    <tr>\n",
       "      <th>2490</th>\n",
       "      <td>0.395213</td>\n",
       "      <td>-0.185966</td>\n",
       "      <td>0.650182</td>\n",
       "      <td>2.120179</td>\n",
       "      <td>-0.122213</td>\n",
       "      <td>-0.370839</td>\n",
       "      <td>1.053559</td>\n",
       "      <td>-0.386219</td>\n",
       "      <td>-1.698781</td>\n",
       "      <td>-0.305315</td>\n",
       "      <td>-0.467712</td>\n",
       "      <td>-0.562971</td>\n",
       "      <td>-0.484742</td>\n",
       "      <td>-0.334368</td>\n",
       "      <td>0.380682</td>\n",
       "    </tr>\n",
       "    <tr>\n",
       "      <th>2212</th>\n",
       "      <td>1.231533</td>\n",
       "      <td>0.742901</td>\n",
       "      <td>-0.792130</td>\n",
       "      <td>0.021852</td>\n",
       "      <td>-0.122213</td>\n",
       "      <td>0.170114</td>\n",
       "      <td>1.053559</td>\n",
       "      <td>-0.386219</td>\n",
       "      <td>-1.698781</td>\n",
       "      <td>-0.424307</td>\n",
       "      <td>-0.467712</td>\n",
       "      <td>-0.562971</td>\n",
       "      <td>-0.484742</td>\n",
       "      <td>-0.334368</td>\n",
       "      <td>0.380682</td>\n",
       "    </tr>\n",
       "  </tbody>\n",
       "</table>\n",
       "</div>"
      ],
      "text/plain": [
       "            age       job   marital  education   default   balance   housing  \\\n",
       "3      0.478845 -0.185966 -0.792130   1.071016 -0.122213 -0.011349  1.053559   \n",
       "63339  0.562477 -0.185966 -0.792130   2.120179 -0.122213 -0.257151 -0.949164   \n",
       "63757  0.813373 -0.805210 -0.792130   0.021852 -0.122213  1.654612 -0.949164   \n",
       "2490   0.395213 -0.185966  0.650182   2.120179 -0.122213 -0.370839  1.053559   \n",
       "2212   1.231533  0.742901 -0.792130   0.021852 -0.122213  0.170114  1.053559   \n",
       "\n",
       "           loan   contact       day     month  campaign     pdays  previous  \\\n",
       "3     -0.386219 -1.698781 -1.257250 -0.467712 -0.562971 -0.484742 -0.334368   \n",
       "63339  2.589204  0.275793 -0.543299  0.702482  0.940003 -0.484742 -0.334368   \n",
       "63757 -0.386219  2.250367 -1.019266  0.312417 -0.562971 -0.484742 -0.334368   \n",
       "2490  -0.386219 -1.698781 -0.305315 -0.467712 -0.562971 -0.484742 -0.334368   \n",
       "2212  -0.386219 -1.698781 -0.424307 -0.467712 -0.562971 -0.484742 -0.334368   \n",
       "\n",
       "       poutcome  \n",
       "3      0.380682  \n",
       "63339  0.380682  \n",
       "63757  0.380682  \n",
       "2490   0.380682  \n",
       "2212   0.380682  "
      ]
     },
     "execution_count": 54,
     "metadata": {},
     "output_type": "execute_result"
    }
   ],
   "source": [
    "x_train.head()"
   ]
  },
  {
   "cell_type": "code",
   "execution_count": null,
   "metadata": {},
   "outputs": [],
   "source": []
  },
  {
   "cell_type": "code",
   "execution_count": 55,
   "metadata": {},
   "outputs": [
    {
     "name": "stdout",
     "output_type": "stream",
     "text": [
      "0.6594192007748443\n",
      "0.6602875607434497\n"
     ]
    }
   ],
   "source": [
    "from sklearn.linear_model import LogisticRegression\n",
    "\n",
    "\n",
    "clf = LogisticRegression()\n",
    "clf.fit(x_train, y_train)\n",
    "print(clf.score(x_train, y_train)) \n",
    "print(clf.score(x_test,y_test))                                  "
   ]
  },
  {
   "cell_type": "code",
   "execution_count": 56,
   "metadata": {},
   "outputs": [
    {
     "data": {
      "text/plain": [
       "array([0, 1, 1, ..., 1, 0, 0], dtype=int64)"
      ]
     },
     "execution_count": 56,
     "metadata": {},
     "output_type": "execute_result"
    }
   ],
   "source": [
    "from sklearn.metrics import confusion_matrix\n",
    "\n",
    "y_pred1=clf.predict(x_test)\n",
    "y_pred1"
   ]
  },
  {
   "cell_type": "code",
   "execution_count": 57,
   "metadata": {},
   "outputs": [
    {
     "data": {
      "text/html": [
       "<div>\n",
       "<style scoped>\n",
       "    .dataframe tbody tr th:only-of-type {\n",
       "        vertical-align: middle;\n",
       "    }\n",
       "\n",
       "    .dataframe tbody tr th {\n",
       "        vertical-align: top;\n",
       "    }\n",
       "\n",
       "    .dataframe thead th {\n",
       "        text-align: right;\n",
       "    }\n",
       "</style>\n",
       "<table border=\"1\" class=\"dataframe\">\n",
       "  <thead>\n",
       "    <tr style=\"text-align: right;\">\n",
       "      <th>Predicted</th>\n",
       "      <th>0</th>\n",
       "      <th>1</th>\n",
       "      <th>All</th>\n",
       "    </tr>\n",
       "    <tr>\n",
       "      <th>True</th>\n",
       "      <th></th>\n",
       "      <th></th>\n",
       "      <th></th>\n",
       "    </tr>\n",
       "  </thead>\n",
       "  <tbody>\n",
       "    <tr>\n",
       "      <th>0</th>\n",
       "      <td>6319</td>\n",
       "      <td>3662</td>\n",
       "      <td>9981</td>\n",
       "    </tr>\n",
       "    <tr>\n",
       "      <th>1</th>\n",
       "      <td>3119</td>\n",
       "      <td>6861</td>\n",
       "      <td>9980</td>\n",
       "    </tr>\n",
       "    <tr>\n",
       "      <th>All</th>\n",
       "      <td>9438</td>\n",
       "      <td>10523</td>\n",
       "      <td>19961</td>\n",
       "    </tr>\n",
       "  </tbody>\n",
       "</table>\n",
       "</div>"
      ],
      "text/plain": [
       "Predicted     0      1    All\n",
       "True                         \n",
       "0          6319   3662   9981\n",
       "1          3119   6861   9980\n",
       "All        9438  10523  19961"
      ]
     },
     "execution_count": 57,
     "metadata": {},
     "output_type": "execute_result"
    }
   ],
   "source": [
    "confusion_matrix(y_test,y_pred1)\n",
    "pd.crosstab(y_test, y_pred1, rownames=['True'], colnames=['Predicted'], margins=True)"
   ]
  },
  {
   "cell_type": "code",
   "execution_count": 58,
   "metadata": {},
   "outputs": [
    {
     "data": {
      "text/plain": [
       "Text(0.5, 15.0, 'Predicted label')"
      ]
     },
     "execution_count": 58,
     "metadata": {},
     "output_type": "execute_result"
    },
    {
     "data": {
      "image/png": "[encoded data removed]",
      "text/plain": [
       "<Figure size 432x288 with 2 Axes>"
      ]
     },
     "metadata": {
      "needs_background": "light"
     },
     "output_type": "display_data"
    }
   ],
   "source": [
    "y_pred1 = clf.predict(x_test)\n",
    "from sklearn import metrics\n",
    "cnf_matrix = metrics.confusion_matrix(y_test, y_pred1)\n",
    "p = sns.heatmap(pd.DataFrame(cnf_matrix), annot=True, cmap=\"YlGnBu\" ,fmt='g')\n",
    "plt.title('Confusion matrix', y=1.1)\n",
    "plt.ylabel('Actual label')\n",
    "plt.xlabel('Predicted label')"
   ]
  },
  {
   "cell_type": "code",
   "execution_count": 59,
   "metadata": {},
   "outputs": [
    {
     "name": "stdout",
     "output_type": "stream",
     "text": [
      "              precision    recall  f1-score   support\n",
      "\n",
      "           0       0.67      0.63      0.65      9981\n",
      "           1       0.65      0.69      0.67      9980\n",
      "\n",
      "    accuracy                           0.66     19961\n",
      "   macro avg       0.66      0.66      0.66     19961\n",
      "weighted avg       0.66      0.66      0.66     19961\n",
      "\n"
     ]
    }
   ],
   "source": [
    "from sklearn.metrics import classification_report\n",
    "\n",
    "print(classification_report(y_test, y_pred1)) "
   ]
  },
  {
   "cell_type": "code",
   "execution_count": 60,
   "metadata": {},
   "outputs": [],
   "source": [
    "from sklearn.neighbors import KNeighborsClassifier\n",
    "\n",
    "\n",
    "test_scores = []\n",
    "train_scores = []\n",
    "\n",
    "for i in range(1,15):\n",
    "\n",
    "    knn = KNeighborsClassifier(i)\n",
    "    knn.fit(x_train,y_train)\n",
    "    \n",
    "    train_scores.append(knn.score(x_train,y_train))\n",
    "    test_scores.append(knn.score(x_test,y_test))"
   ]
  },
  {
   "cell_type": "code",
   "execution_count": 61,
   "metadata": {},
   "outputs": [
    {
     "name": "stdout",
     "output_type": "stream",
     "text": [
      "[1.0, 0.9991984369520565, 0.9469799442245712, 0.9446921496918992, 0.9059833341682948, 0.9013242489521233, 0.8726349715278126, 0.8665898502079055, 0.843711904881185, 0.8384516473790559, 0.8223869879598551, 0.8169430389259055, 0.8079087554063757, 0.8014962510228278]\n",
      "[0.9462451780972897, 0.9417363859526076, 0.9005059866740144, 0.890837132408196, 0.8607284204198187, 0.8463002855568358, 0.8253594509293122, 0.812183758328741, 0.7965031812033465, 0.787986573818947, 0.7744100996944041, 0.7702519913831972, 0.7648915385000752, 0.7631882170231953]\n"
     ]
    }
   ],
   "source": [
    "print(train_scores)                                                                       #scores\n",
    "print(test_scores)"
   ]
  },
  {
   "cell_type": "code",
   "execution_count": 62,
   "metadata": {},
   "outputs": [
    {
     "data": {
      "text/plain": [
       "array([0, 1, 0, ..., 1, 1, 1], dtype=int64)"
      ]
     },
     "execution_count": 62,
     "metadata": {},
     "output_type": "execute_result"
    }
   ],
   "source": [
    "y_pred3 = knn.predict(x_test)\n",
    "y_pred3"
   ]
  },
  {
   "cell_type": "code",
   "execution_count": 63,
   "metadata": {},
   "outputs": [
    {
     "data": {
      "text/html": [
       "<div>\n",
       "<style scoped>\n",
       "    .dataframe tbody tr th:only-of-type {\n",
       "        vertical-align: middle;\n",
       "    }\n",
       "\n",
       "    .dataframe tbody tr th {\n",
       "        vertical-align: top;\n",
       "    }\n",
       "\n",
       "    .dataframe thead th {\n",
       "        text-align: right;\n",
       "    }\n",
       "</style>\n",
       "<table border=\"1\" class=\"dataframe\">\n",
       "  <thead>\n",
       "    <tr style=\"text-align: right;\">\n",
       "      <th>Predicted</th>\n",
       "      <th>0</th>\n",
       "      <th>1</th>\n",
       "      <th>All</th>\n",
       "    </tr>\n",
       "    <tr>\n",
       "      <th>True</th>\n",
       "      <th></th>\n",
       "      <th></th>\n",
       "      <th></th>\n",
       "    </tr>\n",
       "  </thead>\n",
       "  <tbody>\n",
       "    <tr>\n",
       "      <th>0</th>\n",
       "      <td>7460</td>\n",
       "      <td>2521</td>\n",
       "      <td>9981</td>\n",
       "    </tr>\n",
       "    <tr>\n",
       "      <th>1</th>\n",
       "      <td>2206</td>\n",
       "      <td>7774</td>\n",
       "      <td>9980</td>\n",
       "    </tr>\n",
       "    <tr>\n",
       "      <th>All</th>\n",
       "      <td>9666</td>\n",
       "      <td>10295</td>\n",
       "      <td>19961</td>\n",
       "    </tr>\n",
       "  </tbody>\n",
       "</table>\n",
       "</div>"
      ],
      "text/plain": [
       "Predicted     0      1    All\n",
       "True                         \n",
       "0          7460   2521   9981\n",
       "1          2206   7774   9980\n",
       "All        9666  10295  19961"
      ]
     },
     "execution_count": 63,
     "metadata": {},
     "output_type": "execute_result"
    }
   ],
   "source": [
    "confusion_matrix(y_test,y_pred3)\n",
    "pd.crosstab(y_test, y_pred3, rownames=['True'], colnames=['Predicted'], margins=True)"
   ]
  },
  {
   "cell_type": "code",
   "execution_count": 64,
   "metadata": {},
   "outputs": [
    {
     "data": {
      "text/plain": [
       "Text(0.5, 15.0, 'Predicted label')"
      ]
     },
     "execution_count": 64,
     "metadata": {},
     "output_type": "execute_result"
    },
    {
     "data": {
      "image/png": "[encoded data removed]",
      "text/plain": [
       "<Figure size 432x288 with 2 Axes>"
      ]
     },
     "metadata": {
      "needs_background": "light"
     },
     "output_type": "display_data"
    }
   ],
   "source": [
    "y_pred3 = knn.predict(x_test)\n",
    "from sklearn import metrics\n",
    "cnf_matrix = metrics.confusion_matrix(y_test, y_pred3)\n",
    "p = sns.heatmap(pd.DataFrame(cnf_matrix), annot=True, cmap=\"YlGnBu\" ,fmt='g')\n",
    "plt.title('Confusion matrix', y=1.1)\n",
    "plt.ylabel('Actual label')\n",
    "plt.xlabel('Predicted label')"
   ]
  },
  {
   "cell_type": "code",
   "execution_count": 65,
   "metadata": {},
   "outputs": [
    {
     "name": "stdout",
     "output_type": "stream",
     "text": [
      "              precision    recall  f1-score   support\n",
      "\n",
      "           0       0.77      0.75      0.76      9981\n",
      "           1       0.76      0.78      0.77      9980\n",
      "\n",
      "    accuracy                           0.76     19961\n",
      "   macro avg       0.76      0.76      0.76     19961\n",
      "weighted avg       0.76      0.76      0.76     19961\n",
      "\n"
     ]
    }
   ],
   "source": [
    "from sklearn.metrics import classification_report\n",
    "\n",
    "print(classification_report(y_test, y_pred3))"
   ]
  },
  {
   "cell_type": "code",
   "execution_count": null,
   "metadata": {},
   "outputs": [],
   "source": []
  },
  {
   "cell_type": "code",
   "execution_count": 66,
   "metadata": {},
   "outputs": [],
   "source": [
    "from sklearn.ensemble import RandomForestClassifier\n"
   ]
  },
  {
   "cell_type": "code",
   "execution_count": 67,
   "metadata": {},
   "outputs": [],
   "source": [
    "n_estimators = [int(x) for x in np.linspace(start = 100, stop = 1200, num = 12)]\n",
    "# Number of features to consider at every split\n",
    "max_features = ['auto', 'sqrt']\n",
    "# Maximum number of levels in tree\n",
    "max_depth = [int(x) for x in np.linspace(5, 30, num = 6)]\n",
    "# max_depth.append(None)\n",
    "# Minimum number of samples required to split a node\n",
    "min_samples_split = [2, 5, 10, 15, 100]\n",
    "# Minimum number of samples required at each leaf node\n",
    "min_samples_leaf = [1, 2, 5, 10]"
   ]
  },
  {
   "cell_type": "code",
   "execution_count": 68,
   "metadata": {},
   "outputs": [],
   "source": [
    "from sklearn.model_selection import RandomizedSearchCV"
   ]
  },
  {
   "cell_type": "code",
   "execution_count": 69,
   "metadata": {},
   "outputs": [
    {
     "name": "stdout",
     "output_type": "stream",
     "text": [
      "{'n_estimators': [100, 200, 300, 400, 500, 600, 700, 800, 900, 1000, 1100, 1200], 'max_features': ['auto', 'sqrt'], 'max_depth': [5, 10, 15, 20, 25, 30], 'min_samples_split': [2, 5, 10, 15, 100], 'min_samples_leaf': [1, 2, 5, 10]}\n"
     ]
    }
   ],
   "source": [
    "random_grid = {'n_estimators': n_estimators,\n",
    "               'max_features': max_features,\n",
    "               'max_depth': max_depth,\n",
    "               'min_samples_split': min_samples_split,\n",
    "               'min_samples_leaf': min_samples_leaf}\n",
    "\n",
    "print(random_grid)"
   ]
  },
  {
   "cell_type": "markdown",
   "metadata": {},
   "source": []
  },
  {
   "cell_type": "code",
   "execution_count": 70,
   "metadata": {},
   "outputs": [],
   "source": [
    "rf=RandomForestClassifier()"
   ]
  },
  {
   "cell_type": "code",
   "execution_count": 71,
   "metadata": {},
   "outputs": [],
   "source": [
    "rf_random= RandomizedSearchCV(estimator = rf, param_distributions = random_grid,scoring='neg_mean_squared_error', n_iter = 10, cv = 5, verbose=2, random_state=42, n_jobs = 1)"
   ]
  },
  {
   "cell_type": "code",
   "execution_count": 72,
   "metadata": {},
   "outputs": [
    {
     "name": "stdout",
     "output_type": "stream",
     "text": [
      "Fitting 5 folds for each of 10 candidates, totalling 50 fits\n",
      "[CV] END max_depth=10, max_features=sqrt, min_samples_leaf=5, min_samples_split=5, n_estimators=900; total time=  21.1s\n",
      "[CV] END max_depth=10, max_features=sqrt, min_samples_leaf=5, min_samples_split=5, n_estimators=900; total time=  56.3s\n",
      "[CV] END max_depth=10, max_features=sqrt, min_samples_leaf=5, min_samples_split=5, n_estimators=900; total time=  56.7s\n",
      "[CV] END max_depth=10, max_features=sqrt, min_samples_leaf=5, min_samples_split=5, n_estimators=900; total time=  56.8s\n",
      "[CV] END max_depth=10, max_features=sqrt, min_samples_leaf=5, min_samples_split=5, n_estimators=900; total time=  56.9s\n",
      "[CV] END max_depth=15, max_features=sqrt, min_samples_leaf=2, min_samples_split=10, n_estimators=1100; total time= 1.6min\n",
      "[CV] END max_depth=15, max_features=sqrt, min_samples_leaf=2, min_samples_split=10, n_estimators=1100; total time= 1.5min\n",
      "[CV] END max_depth=15, max_features=sqrt, min_samples_leaf=2, min_samples_split=10, n_estimators=1100; total time= 1.5min\n",
      "[CV] END max_depth=15, max_features=sqrt, min_samples_leaf=2, min_samples_split=10, n_estimators=1100; total time= 1.5min\n",
      "[CV] END max_depth=15, max_features=sqrt, min_samples_leaf=2, min_samples_split=10, n_estimators=1100; total time= 1.5min\n",
      "[CV] END max_depth=15, max_features=auto, min_samples_leaf=5, min_samples_split=100, n_estimators=300; total time=  20.7s\n",
      "[CV] END max_depth=15, max_features=auto, min_samples_leaf=5, min_samples_split=100, n_estimators=300; total time=  21.4s\n",
      "[CV] END max_depth=15, max_features=auto, min_samples_leaf=5, min_samples_split=100, n_estimators=300; total time=  22.4s\n",
      "[CV] END max_depth=15, max_features=auto, min_samples_leaf=5, min_samples_split=100, n_estimators=300; total time=  20.7s\n",
      "[CV] END max_depth=15, max_features=auto, min_samples_leaf=5, min_samples_split=100, n_estimators=300; total time=  21.2s\n",
      "[CV] END max_depth=15, max_features=auto, min_samples_leaf=5, min_samples_split=5, n_estimators=400; total time=  32.1s\n",
      "[CV] END max_depth=15, max_features=auto, min_samples_leaf=5, min_samples_split=5, n_estimators=400; total time=  32.1s\n",
      "[CV] END max_depth=15, max_features=auto, min_samples_leaf=5, min_samples_split=5, n_estimators=400; total time=  31.8s\n",
      "[CV] END max_depth=15, max_features=auto, min_samples_leaf=5, min_samples_split=5, n_estimators=400; total time=  31.8s\n",
      "[CV] END max_depth=15, max_features=auto, min_samples_leaf=5, min_samples_split=5, n_estimators=400; total time=  33.1s\n",
      "[CV] END max_depth=20, max_features=auto, min_samples_leaf=10, min_samples_split=5, n_estimators=700; total time=  58.2s\n",
      "[CV] END max_depth=20, max_features=auto, min_samples_leaf=10, min_samples_split=5, n_estimators=700; total time=  58.6s\n",
      "[CV] END max_depth=20, max_features=auto, min_samples_leaf=10, min_samples_split=5, n_estimators=700; total time=  58.4s\n",
      "[CV] END max_depth=20, max_features=auto, min_samples_leaf=10, min_samples_split=5, n_estimators=700; total time=  59.9s\n",
      "[CV] END max_depth=20, max_features=auto, min_samples_leaf=10, min_samples_split=5, n_estimators=700; total time=  59.6s\n",
      "[CV] END max_depth=25, max_features=sqrt, min_samples_leaf=1, min_samples_split=2, n_estimators=1000; total time= 1.8min\n",
      "[CV] END max_depth=25, max_features=sqrt, min_samples_leaf=1, min_samples_split=2, n_estimators=1000; total time= 1.7min\n",
      "[CV] END max_depth=25, max_features=sqrt, min_samples_leaf=1, min_samples_split=2, n_estimators=1000; total time= 1.7min\n",
      "[CV] END max_depth=25, max_features=sqrt, min_samples_leaf=1, min_samples_split=2, n_estimators=1000; total time= 1.8min\n",
      "[CV] END max_depth=25, max_features=sqrt, min_samples_leaf=1, min_samples_split=2, n_estimators=1000; total time= 1.8min\n",
      "[CV] END max_depth=5, max_features=sqrt, min_samples_leaf=10, min_samples_split=15, n_estimators=1100; total time=  41.5s\n",
      "[CV] END max_depth=5, max_features=sqrt, min_samples_leaf=10, min_samples_split=15, n_estimators=1100; total time=  41.1s\n",
      "[CV] END max_depth=5, max_features=sqrt, min_samples_leaf=10, min_samples_split=15, n_estimators=1100; total time=  40.3s\n",
      "[CV] END max_depth=5, max_features=sqrt, min_samples_leaf=10, min_samples_split=15, n_estimators=1100; total time=  42.2s\n",
      "[CV] END max_depth=5, max_features=sqrt, min_samples_leaf=10, min_samples_split=15, n_estimators=1100; total time=  42.0s\n",
      "[CV] END max_depth=15, max_features=sqrt, min_samples_leaf=1, min_samples_split=15, n_estimators=300; total time=  24.4s\n",
      "[CV] END max_depth=15, max_features=sqrt, min_samples_leaf=1, min_samples_split=15, n_estimators=300; total time=  24.5s\n",
      "[CV] END max_depth=15, max_features=sqrt, min_samples_leaf=1, min_samples_split=15, n_estimators=300; total time=  24.7s\n",
      "[CV] END max_depth=15, max_features=sqrt, min_samples_leaf=1, min_samples_split=15, n_estimators=300; total time=  25.0s\n",
      "[CV] END max_depth=15, max_features=sqrt, min_samples_leaf=1, min_samples_split=15, n_estimators=300; total time=  24.7s\n",
      "[CV] END max_depth=5, max_features=sqrt, min_samples_leaf=2, min_samples_split=10, n_estimators=700; total time=  26.9s\n",
      "[CV] END max_depth=5, max_features=sqrt, min_samples_leaf=2, min_samples_split=10, n_estimators=700; total time=  26.3s\n",
      "[CV] END max_depth=5, max_features=sqrt, min_samples_leaf=2, min_samples_split=10, n_estimators=700; total time=  26.5s\n",
      "[CV] END max_depth=5, max_features=sqrt, min_samples_leaf=2, min_samples_split=10, n_estimators=700; total time=  25.8s\n",
      "[CV] END max_depth=5, max_features=sqrt, min_samples_leaf=2, min_samples_split=10, n_estimators=700; total time=  26.1s\n",
      "[CV] END max_depth=20, max_features=auto, min_samples_leaf=1, min_samples_split=15, n_estimators=700; total time= 1.1min\n",
      "[CV] END max_depth=20, max_features=auto, min_samples_leaf=1, min_samples_split=15, n_estimators=700; total time= 1.1min\n",
      "[CV] END max_depth=20, max_features=auto, min_samples_leaf=1, min_samples_split=15, n_estimators=700; total time= 1.1min\n",
      "[CV] END max_depth=20, max_features=auto, min_samples_leaf=1, min_samples_split=15, n_estimators=700; total time= 1.1min\n",
      "[CV] END max_depth=20, max_features=auto, min_samples_leaf=1, min_samples_split=15, n_estimators=700; total time= 1.1min\n"
     ]
    },
    {
     "data": {
      "text/plain": [
       "RandomizedSearchCV(cv=5, estimator=RandomForestClassifier(), n_jobs=1,\n",
       "                   param_distributions={'max_depth': [5, 10, 15, 20, 25, 30],\n",
       "                                        'max_features': ['auto', 'sqrt'],\n",
       "                                        'min_samples_leaf': [1, 2, 5, 10],\n",
       "                                        'min_samples_split': [2, 5, 10, 15,\n",
       "                                                              100],\n",
       "                                        'n_estimators': [100, 200, 300, 400,\n",
       "                                                         500, 600, 700, 800,\n",
       "                                                         900, 1000, 1100,\n",
       "                                                         1200]},\n",
       "                   random_state=42, scoring='neg_mean_squared_error',\n",
       "                   verbose=2)"
      ]
     },
     "execution_count": 72,
     "metadata": {},
     "output_type": "execute_result"
    }
   ],
   "source": [
    "rf_random.fit(x_train,y_train)"
   ]
  },
  {
   "cell_type": "code",
   "execution_count": 73,
   "metadata": {},
   "outputs": [
    {
     "data": {
      "text/plain": [
       "array([0, 1, 0, ..., 0, 0, 0], dtype=int64)"
      ]
     },
     "execution_count": 73,
     "metadata": {},
     "output_type": "execute_result"
    }
   ],
   "source": [
    "y_pred2 = rf_random.predict(x_test)\n",
    "y_pred2"
   ]
  },
  {
   "cell_type": "code",
   "execution_count": 74,
   "metadata": {},
   "outputs": [
    {
     "data": {
      "text/html": [
       "<div>\n",
       "<style scoped>\n",
       "    .dataframe tbody tr th:only-of-type {\n",
       "        vertical-align: middle;\n",
       "    }\n",
       "\n",
       "    .dataframe tbody tr th {\n",
       "        vertical-align: top;\n",
       "    }\n",
       "\n",
       "    .dataframe thead th {\n",
       "        text-align: right;\n",
       "    }\n",
       "</style>\n",
       "<table border=\"1\" class=\"dataframe\">\n",
       "  <thead>\n",
       "    <tr style=\"text-align: right;\">\n",
       "      <th>Predicted</th>\n",
       "      <th>0</th>\n",
       "      <th>1</th>\n",
       "      <th>All</th>\n",
       "    </tr>\n",
       "    <tr>\n",
       "      <th>True</th>\n",
       "      <th></th>\n",
       "      <th></th>\n",
       "      <th></th>\n",
       "    </tr>\n",
       "  </thead>\n",
       "  <tbody>\n",
       "    <tr>\n",
       "      <th>0</th>\n",
       "      <td>9444</td>\n",
       "      <td>537</td>\n",
       "      <td>9981</td>\n",
       "    </tr>\n",
       "    <tr>\n",
       "      <th>1</th>\n",
       "      <td>12</td>\n",
       "      <td>9968</td>\n",
       "      <td>9980</td>\n",
       "    </tr>\n",
       "    <tr>\n",
       "      <th>All</th>\n",
       "      <td>9456</td>\n",
       "      <td>10505</td>\n",
       "      <td>19961</td>\n",
       "    </tr>\n",
       "  </tbody>\n",
       "</table>\n",
       "</div>"
      ],
      "text/plain": [
       "Predicted     0      1    All\n",
       "True                         \n",
       "0          9444    537   9981\n",
       "1            12   9968   9980\n",
       "All        9456  10505  19961"
      ]
     },
     "execution_count": 74,
     "metadata": {},
     "output_type": "execute_result"
    }
   ],
   "source": [
    "confusion_matrix(y_test,y_pred2)\n",
    "pd.crosstab(y_test, y_pred2, rownames=['True'], colnames=['Predicted'], margins=True)"
   ]
  },
  {
   "cell_type": "code",
   "execution_count": 75,
   "metadata": {},
   "outputs": [
    {
     "data": {
      "text/plain": [
       "Text(0.5, 15.0, 'Predicted label')"
      ]
     },
     "execution_count": 75,
     "metadata": {},
     "output_type": "execute_result"
    },
    {
     "data": {
      "image/png": "[encoded data removed]",
      "text/plain": [
       "<Figure size 432x288 with 2 Axes>"
      ]
     },
     "metadata": {
      "needs_background": "light"
     },
     "output_type": "display_data"
    }
   ],
   "source": [
    "y_pred2 = rf_random.predict(x_test)\n",
    "from sklearn import metrics\n",
    "cnf_matrix = metrics.confusion_matrix(y_test, y_pred2)\n",
    "p = sns.heatmap(pd.DataFrame(cnf_matrix), annot=True, cmap=\"YlGnBu\" ,fmt='g')\n",
    "plt.title('Confusion matrix', y=1.1)\n",
    "plt.ylabel('Actual label')\n",
    "plt.xlabel('Predicted label')"
   ]
  },
  {
   "cell_type": "code",
   "execution_count": 76,
   "metadata": {},
   "outputs": [
    {
     "name": "stdout",
     "output_type": "stream",
     "text": [
      "              precision    recall  f1-score   support\n",
      "\n",
      "           0       1.00      0.95      0.97      9981\n",
      "           1       0.95      1.00      0.97      9980\n",
      "\n",
      "    accuracy                           0.97     19961\n",
      "   macro avg       0.97      0.97      0.97     19961\n",
      "weighted avg       0.97      0.97      0.97     19961\n",
      "\n"
     ]
    }
   ],
   "source": [
    "from sklearn.metrics import classification_report\n",
    "\n",
    "print(classification_report(y_test, y_pred2)) "
   ]
  },
  {
   "cell_type": "markdown",
   "metadata": {},
   "source": [
    "For the given data,based on the analysis and model buliding we understand that the RandomForestClassifier\n",
    "performs better as it has a better F-1 score."
   ]
  }
 ],
 "metadata": {
  "kernelspec": {
   "display_name": "Python 3",
   "language": "python",
   "name": "python3"
  },
  "language_info": {
   "codemirror_mode": {
    "name": "ipython",
    "version": 3
   },
   "file_extension": ".py",
   "mimetype": "text/x-python",
   "name": "python",
   "nbconvert_exporter": "python",
   "pygments_lexer": "ipython3",
   "version": "3.8.3"
  }
 },
 "nbformat": 4,
 "nbformat_minor": 4
}
